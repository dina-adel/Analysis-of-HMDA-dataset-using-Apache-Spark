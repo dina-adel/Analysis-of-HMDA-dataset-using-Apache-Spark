{
 "cells": [
  {
   "cell_type": "markdown",
   "metadata": {
    "id": "zH59UFoarAr2"
   },
   "source": [
    "# **Setup**"
   ]
  },
  {
   "cell_type": "code",
   "execution_count": null,
   "metadata": {
    "id": "2a8zVcWTqgXk"
   },
   "outputs": [],
   "source": [
    "#!wget https://files.consumerfinance.gov/hmda-historic-loan-data/hmda_2014_nationwide_all-records_labels.zip"
   ]
  },
  {
   "cell_type": "code",
   "execution_count": null,
   "metadata": {
    "id": "yHtd154QrUhU"
   },
   "outputs": [],
   "source": [
    "#!unzip hmda_2014_nationwide_all-records_labels.zip"
   ]
  },
  {
   "cell_type": "code",
   "execution_count": null,
   "metadata": {
    "id": "M9sl82Pk8OFo"
   },
   "outputs": [],
   "source": [
    "!apt-get install openjdk-8-jdk-headless -qq > /dev/null\n",
    "!wget -q https://www-us.apache.org/dist/spark/spark-2.4.7/spark-2.4.7-bin-hadoop2.7.tgz\n",
    "!tar xf spark-2.4.7-bin-hadoop2.7.tgz\n",
    "!pip install -q findspark\n",
    "import os\n",
    "\n",
    "os.environ[\"JAVA_HOME\"] = \"/usr/lib/jvm/java-8-openjdk-amd64\"\n",
    "os.environ[\"SPARK_HOME\"] = \"/content/spark-2.4.7-bin-hadoop2.7\"\n",
    "\n",
    "import findspark\n",
    "findspark.init()"
   ]
  },
  {
   "cell_type": "code",
   "execution_count": null,
   "metadata": {
    "id": "y9FVuOlf2AGW"
   },
   "outputs": [],
   "source": [
    "from google.colab import drive\n",
    "drive.mount('/content/gdrive')\n",
    "%ls"
   ]
  },
  {
   "cell_type": "code",
   "execution_count": null,
   "metadata": {
    "id": "JHGYQWJkrpRO"
   },
   "outputs": [],
   "source": [
    "import pandas as pd\n",
    "from pyspark.sql import SparkSession\n",
    "from pyspark.sql import SQLContext\n",
    "from pyspark import SparkContext\n",
    "import numpy as np\n",
    "import math\n",
    "from pyspark.sql.functions import explode, col, concat\n",
    "from pyspark.sql.functions import when\n",
    "import itertools\n",
    "from pyspark.sql.functions import col, avg\n",
    "from pyspark.sql import functions as F\n",
    "from pyspark.sql.functions import col , column\n",
    "\n",
    "spark = SparkSession.builder.master(\"local[*]\").getOrCreate()\n",
    "sc = spark.sparkContext\n",
    "sqlContext = SQLContext(sc)"
   ]
  },
  {
   "cell_type": "markdown",
   "metadata": {
    "id": "y_NlUwowr7rJ"
   },
   "source": [
    "# **View & Preprocess data**"
   ]
  },
  {
   "cell_type": "code",
   "execution_count": null,
   "metadata": {
    "id": "CjnSiTkX3X-E"
   },
   "outputs": [],
   "source": [
    "###### Most of these columns are empty; so, they do not really add new info -> drop them\n",
    "#df_records = pd.read_csv('gdrive/MyDrive/Big Data Projects/Final Project/data.csv',index_col= 'respondent_id')\n",
    "#df_records= df_records.drop(['as_of_year','applicant_race_name_2','applicant_race_2','applicant_race_name_3',\n",
    "#                             'applicant_race_3','applicant_race_name_4','applicant_race_4',\n",
    "#                             'applicant_race_name_5','applicant_race_5',\n",
    "#                             'co_applicant_race_name_2','co_applicant_race_2','co_applicant_race_name_3',\n",
    "#                             'co_applicant_race_3','co_applicant_race_name_4','co_applicant_race_3',\n",
    "#                             'co_applicant_race_name_4','co_applicant_race_4', 'co_applicant_race_name_5',\n",
    "#                             'co_applicant_race_5'], axis=1)\n",
    "#df_records.to_csv('gdrive/MyDrive/Big Data Projects/Final Project/data_useful.csv')\n",
    "# ---------------> columns dropped and data saved in data_useful.csv\n",
    "###### 90% of these columns were empty\n",
    "#df_records = pd.read_csv('gdrive/MyDrive/Big Data Projects/Final Project/data_useful.csv')\n",
    "#df_records = df_records.drop(['edit_status_name','edit_status',\n",
    "#                              'denial_reason_name_1','denial_reason_1',\n",
    "#                              'denial_reason_name_2','denial_reason_2',\n",
    "#                              'denial_reason_name_3','denial_reason_3','rate_spread'],axis=1)\n",
    "#df_records_cleaned = df_records.dropna()\n",
    "#df_records_cleaned.to_csv('gdrive/MyDrive/Big Data Projects/Final Project/data_useful_updated.csv')\n",
    "# ---------------> columns dropped and data saved in data_useful_updated.csv\n",
    "\n",
    "## < I kept them in different files in case we needed them for insights > ##"
   ]
  },
  {
   "cell_type": "code",
   "execution_count": null,
   "metadata": {
    "id": "JWW2LAyWsBRr"
   },
   "outputs": [],
   "source": [
    "df_records = pd.read_csv('gdrive/MyDrive/Final Project/data_useful_updated.csv',index_col=False)"
   ]
  },
  {
   "cell_type": "code",
   "execution_count": null,
   "metadata": {
    "colab": {
     "base_uri": "https://localhost:8080/"
    },
    "id": "BtT1ZahCOdRK",
    "outputId": "d79d77fc-5ea9-469f-a37b-446d9d77f3c4"
   },
   "outputs": [
    {
     "name": "stdout",
     "output_type": "stream",
     "text": [
      "<class 'pandas.core.frame.DataFrame'>\n",
      "RangeIndex: 6769112 entries, 0 to 6769111\n",
      "Data columns (total 53 columns):\n",
      " #   Column                          Dtype  \n",
      "---  ------                          -----  \n",
      " 0   Unnamed: 0                      int64  \n",
      " 1   respondent_id                   object \n",
      " 2   agency_name                     object \n",
      " 3   agency_abbr                     object \n",
      " 4   agency_code                     int64  \n",
      " 5   loan_type_name                  object \n",
      " 6   loan_type                       int64  \n",
      " 7   property_type_name              object \n",
      " 8   property_type                   int64  \n",
      " 9   loan_purpose_name               object \n",
      " 10  loan_purpose                    int64  \n",
      " 11  owner_occupancy_name            object \n",
      " 12  owner_occupancy                 int64  \n",
      " 13  loan_amount_000s                int64  \n",
      " 14  preapproval_name                object \n",
      " 15  preapproval                     int64  \n",
      " 16  action_taken_name               object \n",
      " 17  action_taken                    int64  \n",
      " 18  msamd_name                      object \n",
      " 19  msamd                           float64\n",
      " 20  state_name                      object \n",
      " 21  state_abbr                      object \n",
      " 22  state_code                      float64\n",
      " 23  county_name                     object \n",
      " 24  county_code                     float64\n",
      " 25  census_tract_number             float64\n",
      " 26  applicant_ethnicity_name        object \n",
      " 27  applicant_ethnicity             int64  \n",
      " 28  co_applicant_ethnicity_name     object \n",
      " 29  co_applicant_ethnicity          int64  \n",
      " 30  applicant_race_name_1           object \n",
      " 31  applicant_race_1                int64  \n",
      " 32  co_applicant_race_name_1        object \n",
      " 33  co_applicant_race_1             int64  \n",
      " 34  applicant_sex_name              object \n",
      " 35  applicant_sex                   int64  \n",
      " 36  co_applicant_sex_name           object \n",
      " 37  co_applicant_sex                int64  \n",
      " 38  applicant_income_000s           float64\n",
      " 39  purchaser_type_name             object \n",
      " 40  purchaser_type                  int64  \n",
      " 41  hoepa_status_name               object \n",
      " 42  hoepa_status                    int64  \n",
      " 43  lien_status_name                object \n",
      " 44  lien_status                     int64  \n",
      " 45  sequence_number                 int64  \n",
      " 46  population                      float64\n",
      " 47  minority_population             float64\n",
      " 48  hud_median_family_income        float64\n",
      " 49  tract_to_msamd_income           float64\n",
      " 50  number_of_owner_occupied_units  float64\n",
      " 51  number_of_1_to_4_family_units   float64\n",
      " 52  application_date_indicator      int64  \n",
      "dtypes: float64(11), int64(20), object(22)\n",
      "memory usage: 2.7+ GB\n"
     ]
    }
   ],
   "source": [
    "#df_records = df_records.loc[:, ~df_records.columns.str.contains('^Unnamed')]\n",
    "df_records.info()"
   ]
  },
  {
   "cell_type": "code",
   "execution_count": null,
   "metadata": {
    "colab": {
     "base_uri": "https://localhost:8080/",
     "height": 317
    },
    "id": "32D8R31fpXIa",
    "outputId": "89304e71-a266-4404-edc4-305aca10612b"
   },
   "outputs": [
    {
     "data": {
      "text/html": [
       "<div>\n",
       "<style scoped>\n",
       "    .dataframe tbody tr th:only-of-type {\n",
       "        vertical-align: middle;\n",
       "    }\n",
       "\n",
       "    .dataframe tbody tr th {\n",
       "        vertical-align: top;\n",
       "    }\n",
       "\n",
       "    .dataframe thead th {\n",
       "        text-align: right;\n",
       "    }\n",
       "</style>\n",
       "<table border=\"1\" class=\"dataframe\">\n",
       "  <thead>\n",
       "    <tr style=\"text-align: right;\">\n",
       "      <th></th>\n",
       "      <th>Unnamed: 0</th>\n",
       "      <th>agency_code</th>\n",
       "      <th>loan_type</th>\n",
       "      <th>property_type</th>\n",
       "      <th>loan_purpose</th>\n",
       "      <th>owner_occupancy</th>\n",
       "      <th>loan_amount_000s</th>\n",
       "      <th>preapproval</th>\n",
       "      <th>action_taken</th>\n",
       "      <th>msamd</th>\n",
       "      <th>state_code</th>\n",
       "      <th>county_code</th>\n",
       "      <th>census_tract_number</th>\n",
       "      <th>applicant_ethnicity</th>\n",
       "      <th>co_applicant_ethnicity</th>\n",
       "      <th>applicant_race_1</th>\n",
       "      <th>co_applicant_race_1</th>\n",
       "      <th>applicant_sex</th>\n",
       "      <th>co_applicant_sex</th>\n",
       "      <th>applicant_income_000s</th>\n",
       "      <th>purchaser_type</th>\n",
       "      <th>hoepa_status</th>\n",
       "      <th>lien_status</th>\n",
       "      <th>sequence_number</th>\n",
       "      <th>population</th>\n",
       "      <th>minority_population</th>\n",
       "      <th>hud_median_family_income</th>\n",
       "      <th>tract_to_msamd_income</th>\n",
       "      <th>number_of_owner_occupied_units</th>\n",
       "      <th>number_of_1_to_4_family_units</th>\n",
       "      <th>application_date_indicator</th>\n",
       "    </tr>\n",
       "  </thead>\n",
       "  <tbody>\n",
       "    <tr>\n",
       "      <th>count</th>\n",
       "      <td>6.769112e+06</td>\n",
       "      <td>6.769112e+06</td>\n",
       "      <td>6.769112e+06</td>\n",
       "      <td>6.769112e+06</td>\n",
       "      <td>6.769112e+06</td>\n",
       "      <td>6.769112e+06</td>\n",
       "      <td>6.769112e+06</td>\n",
       "      <td>6.769112e+06</td>\n",
       "      <td>6.769112e+06</td>\n",
       "      <td>6.769112e+06</td>\n",
       "      <td>6.769112e+06</td>\n",
       "      <td>6.769112e+06</td>\n",
       "      <td>6.769112e+06</td>\n",
       "      <td>6.769112e+06</td>\n",
       "      <td>6.769112e+06</td>\n",
       "      <td>6.769112e+06</td>\n",
       "      <td>6.769112e+06</td>\n",
       "      <td>6.769112e+06</td>\n",
       "      <td>6.769112e+06</td>\n",
       "      <td>6.769112e+06</td>\n",
       "      <td>6.769112e+06</td>\n",
       "      <td>6.769112e+06</td>\n",
       "      <td>6.769112e+06</td>\n",
       "      <td>6.769112e+06</td>\n",
       "      <td>6.769112e+06</td>\n",
       "      <td>6.769112e+06</td>\n",
       "      <td>6.769112e+06</td>\n",
       "      <td>6.769112e+06</td>\n",
       "      <td>6.769112e+06</td>\n",
       "      <td>6.769112e+06</td>\n",
       "      <td>6.769112e+06</td>\n",
       "    </tr>\n",
       "    <tr>\n",
       "      <th>mean</th>\n",
       "      <td>4.484828e+06</td>\n",
       "      <td>6.852959e+00</td>\n",
       "      <td>1.334821e+00</td>\n",
       "      <td>1.024278e+00</td>\n",
       "      <td>1.934738e+00</td>\n",
       "      <td>1.105274e+00</td>\n",
       "      <td>2.144966e+02</td>\n",
       "      <td>2.820834e+00</td>\n",
       "      <td>2.247986e+00</td>\n",
       "      <td>2.988989e+04</td>\n",
       "      <td>2.638624e+01</td>\n",
       "      <td>8.558126e+01</td>\n",
       "      <td>1.869701e+03</td>\n",
       "      <td>2.047178e+00</td>\n",
       "      <td>3.680611e+00</td>\n",
       "      <td>4.811376e+00</td>\n",
       "      <td>6.596224e+00</td>\n",
       "      <td>1.476955e+00</td>\n",
       "      <td>3.622999e+00</td>\n",
       "      <td>1.070841e+02</td>\n",
       "      <td>1.704574e+00</td>\n",
       "      <td>1.999901e+00</td>\n",
       "      <td>1.341963e+00</td>\n",
       "      <td>9.754802e+04</td>\n",
       "      <td>5.545651e+03</td>\n",
       "      <td>3.324337e+01</td>\n",
       "      <td>6.896524e+04</td>\n",
       "      <td>1.167088e+02</td>\n",
       "      <td>1.444350e+03</td>\n",
       "      <td>1.860066e+03</td>\n",
       "      <td>1.603265e-01</td>\n",
       "    </tr>\n",
       "    <tr>\n",
       "      <th>std</th>\n",
       "      <td>2.567154e+06</td>\n",
       "      <td>2.294285e+00</td>\n",
       "      <td>6.849888e-01</td>\n",
       "      <td>1.539103e-01</td>\n",
       "      <td>9.587845e-01</td>\n",
       "      <td>3.085576e-01</td>\n",
       "      <td>2.274823e+02</td>\n",
       "      <td>4.497749e-01</td>\n",
       "      <td>1.642653e+00</td>\n",
       "      <td>1.134568e+04</td>\n",
       "      <td>1.695822e+01</td>\n",
       "      <td>1.042206e+02</td>\n",
       "      <td>2.782036e+03</td>\n",
       "      <td>5.488484e-01</td>\n",
       "      <td>1.497916e+00</td>\n",
       "      <td>1.039896e+00</td>\n",
       "      <td>1.682329e+00</td>\n",
       "      <td>7.218676e-01</td>\n",
       "      <td>1.566077e+00</td>\n",
       "      <td>1.561728e+02</td>\n",
       "      <td>2.543298e+00</td>\n",
       "      <td>9.955748e-03</td>\n",
       "      <td>8.795573e-01</td>\n",
       "      <td>2.057132e+05</td>\n",
       "      <td>2.876305e+03</td>\n",
       "      <td>2.588485e+01</td>\n",
       "      <td>1.397332e+04</td>\n",
       "      <td>4.258784e+01</td>\n",
       "      <td>7.649985e+02</td>\n",
       "      <td>9.338463e+02</td>\n",
       "      <td>5.430899e-01</td>\n",
       "    </tr>\n",
       "    <tr>\n",
       "      <th>min</th>\n",
       "      <td>0.000000e+00</td>\n",
       "      <td>1.000000e+00</td>\n",
       "      <td>1.000000e+00</td>\n",
       "      <td>1.000000e+00</td>\n",
       "      <td>1.000000e+00</td>\n",
       "      <td>1.000000e+00</td>\n",
       "      <td>1.000000e+00</td>\n",
       "      <td>1.000000e+00</td>\n",
       "      <td>1.000000e+00</td>\n",
       "      <td>1.018000e+04</td>\n",
       "      <td>1.000000e+00</td>\n",
       "      <td>1.000000e+00</td>\n",
       "      <td>1.000000e+00</td>\n",
       "      <td>1.000000e+00</td>\n",
       "      <td>1.000000e+00</td>\n",
       "      <td>1.000000e+00</td>\n",
       "      <td>1.000000e+00</td>\n",
       "      <td>1.000000e+00</td>\n",
       "      <td>1.000000e+00</td>\n",
       "      <td>1.000000e+00</td>\n",
       "      <td>0.000000e+00</td>\n",
       "      <td>1.000000e+00</td>\n",
       "      <td>1.000000e+00</td>\n",
       "      <td>1.000000e+00</td>\n",
       "      <td>4.000000e+00</td>\n",
       "      <td>3.400000e-01</td>\n",
       "      <td>1.750000e+04</td>\n",
       "      <td>6.350000e+00</td>\n",
       "      <td>2.000000e+00</td>\n",
       "      <td>1.000000e+00</td>\n",
       "      <td>0.000000e+00</td>\n",
       "    </tr>\n",
       "    <tr>\n",
       "      <th>25%</th>\n",
       "      <td>2.267693e+06</td>\n",
       "      <td>7.000000e+00</td>\n",
       "      <td>1.000000e+00</td>\n",
       "      <td>1.000000e+00</td>\n",
       "      <td>1.000000e+00</td>\n",
       "      <td>1.000000e+00</td>\n",
       "      <td>1.000000e+02</td>\n",
       "      <td>3.000000e+00</td>\n",
       "      <td>1.000000e+00</td>\n",
       "      <td>1.912400e+04</td>\n",
       "      <td>9.000000e+00</td>\n",
       "      <td>2.700000e+01</td>\n",
       "      <td>1.010500e+02</td>\n",
       "      <td>2.000000e+00</td>\n",
       "      <td>2.000000e+00</td>\n",
       "      <td>5.000000e+00</td>\n",
       "      <td>5.000000e+00</td>\n",
       "      <td>1.000000e+00</td>\n",
       "      <td>2.000000e+00</td>\n",
       "      <td>4.900000e+01</td>\n",
       "      <td>0.000000e+00</td>\n",
       "      <td>2.000000e+00</td>\n",
       "      <td>1.000000e+00</td>\n",
       "      <td>1.808000e+03</td>\n",
       "      <td>3.812000e+03</td>\n",
       "      <td>1.267000e+01</td>\n",
       "      <td>6.060000e+04</td>\n",
       "      <td>8.878000e+01</td>\n",
       "      <td>9.410000e+02</td>\n",
       "      <td>1.270000e+03</td>\n",
       "      <td>0.000000e+00</td>\n",
       "    </tr>\n",
       "    <tr>\n",
       "      <th>50%</th>\n",
       "      <td>4.500522e+06</td>\n",
       "      <td>7.000000e+00</td>\n",
       "      <td>1.000000e+00</td>\n",
       "      <td>1.000000e+00</td>\n",
       "      <td>2.000000e+00</td>\n",
       "      <td>1.000000e+00</td>\n",
       "      <td>1.670000e+02</td>\n",
       "      <td>3.000000e+00</td>\n",
       "      <td>1.000000e+00</td>\n",
       "      <td>3.108400e+04</td>\n",
       "      <td>2.500000e+01</td>\n",
       "      <td>6.100000e+01</td>\n",
       "      <td>3.150200e+02</td>\n",
       "      <td>2.000000e+00</td>\n",
       "      <td>5.000000e+00</td>\n",
       "      <td>5.000000e+00</td>\n",
       "      <td>8.000000e+00</td>\n",
       "      <td>1.000000e+00</td>\n",
       "      <td>5.000000e+00</td>\n",
       "      <td>7.700000e+01</td>\n",
       "      <td>0.000000e+00</td>\n",
       "      <td>2.000000e+00</td>\n",
       "      <td>1.000000e+00</td>\n",
       "      <td>1.224100e+04</td>\n",
       "      <td>5.072000e+03</td>\n",
       "      <td>2.534000e+01</td>\n",
       "      <td>6.800000e+04</td>\n",
       "      <td>1.106700e+02</td>\n",
       "      <td>1.336000e+03</td>\n",
       "      <td>1.717000e+03</td>\n",
       "      <td>0.000000e+00</td>\n",
       "    </tr>\n",
       "    <tr>\n",
       "      <th>75%</th>\n",
       "      <td>6.671482e+06</td>\n",
       "      <td>9.000000e+00</td>\n",
       "      <td>1.000000e+00</td>\n",
       "      <td>1.000000e+00</td>\n",
       "      <td>3.000000e+00</td>\n",
       "      <td>1.000000e+00</td>\n",
       "      <td>2.700000e+02</td>\n",
       "      <td>3.000000e+00</td>\n",
       "      <td>3.000000e+00</td>\n",
       "      <td>4.014000e+04</td>\n",
       "      <td>4.100000e+01</td>\n",
       "      <td>1.070000e+02</td>\n",
       "      <td>2.523020e+03</td>\n",
       "      <td>2.000000e+00</td>\n",
       "      <td>5.000000e+00</td>\n",
       "      <td>5.000000e+00</td>\n",
       "      <td>8.000000e+00</td>\n",
       "      <td>2.000000e+00</td>\n",
       "      <td>5.000000e+00</td>\n",
       "      <td>1.220000e+02</td>\n",
       "      <td>2.000000e+00</td>\n",
       "      <td>2.000000e+00</td>\n",
       "      <td>1.000000e+00</td>\n",
       "      <td>8.149425e+04</td>\n",
       "      <td>6.579000e+03</td>\n",
       "      <td>4.769000e+01</td>\n",
       "      <td>7.540000e+04</td>\n",
       "      <td>1.375900e+02</td>\n",
       "      <td>1.802000e+03</td>\n",
       "      <td>2.276000e+03</td>\n",
       "      <td>0.000000e+00</td>\n",
       "    </tr>\n",
       "    <tr>\n",
       "      <th>max</th>\n",
       "      <td>8.999999e+06</td>\n",
       "      <td>9.000000e+00</td>\n",
       "      <td>4.000000e+00</td>\n",
       "      <td>2.000000e+00</td>\n",
       "      <td>3.000000e+00</td>\n",
       "      <td>3.000000e+00</td>\n",
       "      <td>9.999900e+04</td>\n",
       "      <td>3.000000e+00</td>\n",
       "      <td>8.000000e+00</td>\n",
       "      <td>4.974000e+04</td>\n",
       "      <td>7.200000e+01</td>\n",
       "      <td>8.400000e+02</td>\n",
       "      <td>9.856000e+03</td>\n",
       "      <td>4.000000e+00</td>\n",
       "      <td>5.000000e+00</td>\n",
       "      <td>7.000000e+00</td>\n",
       "      <td>8.000000e+00</td>\n",
       "      <td>4.000000e+00</td>\n",
       "      <td>5.000000e+00</td>\n",
       "      <td>9.999000e+03</td>\n",
       "      <td>9.000000e+00</td>\n",
       "      <td>2.000000e+00</td>\n",
       "      <td>4.000000e+00</td>\n",
       "      <td>1.118443e+06</td>\n",
       "      <td>3.745200e+04</td>\n",
       "      <td>1.000000e+02</td>\n",
       "      <td>1.113000e+05</td>\n",
       "      <td>4.993500e+02</td>\n",
       "      <td>8.526000e+03</td>\n",
       "      <td>1.322700e+04</td>\n",
       "      <td>2.000000e+00</td>\n",
       "    </tr>\n",
       "  </tbody>\n",
       "</table>\n",
       "</div>"
      ],
      "text/plain": [
       "         Unnamed: 0  ...  application_date_indicator\n",
       "count  6.769112e+06  ...                6.769112e+06\n",
       "mean   4.484828e+06  ...                1.603265e-01\n",
       "std    2.567154e+06  ...                5.430899e-01\n",
       "min    0.000000e+00  ...                0.000000e+00\n",
       "25%    2.267693e+06  ...                0.000000e+00\n",
       "50%    4.500522e+06  ...                0.000000e+00\n",
       "75%    6.671482e+06  ...                0.000000e+00\n",
       "max    8.999999e+06  ...                2.000000e+00\n",
       "\n",
       "[8 rows x 31 columns]"
      ]
     },
     "execution_count": 9,
     "metadata": {
      "tags": []
     },
     "output_type": "execute_result"
    }
   ],
   "source": [
    "df_records.describe()"
   ]
  },
  {
   "cell_type": "code",
   "execution_count": null,
   "metadata": {
    "colab": {
     "base_uri": "https://localhost:8080/",
     "height": 250
    },
    "id": "xkuPjW5WH7yQ",
    "outputId": "95392f4b-3f5d-4009-bfd6-b4c51aeea05b"
   },
   "outputs": [
    {
     "data": {
      "text/html": [
       "<div>\n",
       "<style scoped>\n",
       "    .dataframe tbody tr th:only-of-type {\n",
       "        vertical-align: middle;\n",
       "    }\n",
       "\n",
       "    .dataframe tbody tr th {\n",
       "        vertical-align: top;\n",
       "    }\n",
       "\n",
       "    .dataframe thead th {\n",
       "        text-align: right;\n",
       "    }\n",
       "</style>\n",
       "<table border=\"1\" class=\"dataframe\">\n",
       "  <thead>\n",
       "    <tr style=\"text-align: right;\">\n",
       "      <th></th>\n",
       "      <th>Unnamed: 0</th>\n",
       "      <th>respondent_id</th>\n",
       "      <th>agency_name</th>\n",
       "      <th>agency_abbr</th>\n",
       "      <th>agency_code</th>\n",
       "      <th>loan_type_name</th>\n",
       "      <th>loan_type</th>\n",
       "      <th>property_type_name</th>\n",
       "      <th>property_type</th>\n",
       "      <th>loan_purpose_name</th>\n",
       "      <th>loan_purpose</th>\n",
       "      <th>owner_occupancy_name</th>\n",
       "      <th>owner_occupancy</th>\n",
       "      <th>loan_amount_000s</th>\n",
       "      <th>preapproval_name</th>\n",
       "      <th>preapproval</th>\n",
       "      <th>action_taken_name</th>\n",
       "      <th>action_taken</th>\n",
       "      <th>msamd_name</th>\n",
       "      <th>msamd</th>\n",
       "      <th>state_name</th>\n",
       "      <th>state_abbr</th>\n",
       "      <th>state_code</th>\n",
       "      <th>county_name</th>\n",
       "      <th>county_code</th>\n",
       "      <th>census_tract_number</th>\n",
       "      <th>applicant_ethnicity_name</th>\n",
       "      <th>applicant_ethnicity</th>\n",
       "      <th>co_applicant_ethnicity_name</th>\n",
       "      <th>co_applicant_ethnicity</th>\n",
       "      <th>applicant_race_name_1</th>\n",
       "      <th>applicant_race_1</th>\n",
       "      <th>co_applicant_race_name_1</th>\n",
       "      <th>co_applicant_race_1</th>\n",
       "      <th>applicant_sex_name</th>\n",
       "      <th>applicant_sex</th>\n",
       "      <th>co_applicant_sex_name</th>\n",
       "      <th>co_applicant_sex</th>\n",
       "      <th>applicant_income_000s</th>\n",
       "      <th>purchaser_type_name</th>\n",
       "      <th>purchaser_type</th>\n",
       "      <th>hoepa_status_name</th>\n",
       "      <th>hoepa_status</th>\n",
       "      <th>lien_status_name</th>\n",
       "      <th>lien_status</th>\n",
       "      <th>sequence_number</th>\n",
       "      <th>population</th>\n",
       "      <th>minority_population</th>\n",
       "      <th>hud_median_family_income</th>\n",
       "      <th>tract_to_msamd_income</th>\n",
       "      <th>number_of_owner_occupied_units</th>\n",
       "      <th>number_of_1_to_4_family_units</th>\n",
       "      <th>application_date_indicator</th>\n",
       "    </tr>\n",
       "  </thead>\n",
       "  <tbody>\n",
       "    <tr>\n",
       "      <th>0</th>\n",
       "      <td>0</td>\n",
       "      <td>0000019506</td>\n",
       "      <td>Federal Deposit Insurance Corporation</td>\n",
       "      <td>FDIC</td>\n",
       "      <td>3</td>\n",
       "      <td>Conventional</td>\n",
       "      <td>1</td>\n",
       "      <td>One-to-four family dwelling (other than manufa...</td>\n",
       "      <td>1</td>\n",
       "      <td>Home purchase</td>\n",
       "      <td>1</td>\n",
       "      <td>Not owner-occupied as a principal dwelling</td>\n",
       "      <td>2</td>\n",
       "      <td>81</td>\n",
       "      <td>Preapproval was not requested</td>\n",
       "      <td>2</td>\n",
       "      <td>Loan originated</td>\n",
       "      <td>1</td>\n",
       "      <td>Carbondale, Marion - IL</td>\n",
       "      <td>16060.0</td>\n",
       "      <td>Illinois</td>\n",
       "      <td>IL</td>\n",
       "      <td>17.0</td>\n",
       "      <td>Jackson County</td>\n",
       "      <td>77.0</td>\n",
       "      <td>111.00</td>\n",
       "      <td>Not Hispanic or Latino</td>\n",
       "      <td>2</td>\n",
       "      <td>Not Hispanic or Latino</td>\n",
       "      <td>2</td>\n",
       "      <td>White</td>\n",
       "      <td>5</td>\n",
       "      <td>White</td>\n",
       "      <td>5</td>\n",
       "      <td>Male</td>\n",
       "      <td>1</td>\n",
       "      <td>Female</td>\n",
       "      <td>2</td>\n",
       "      <td>167.0</td>\n",
       "      <td>Fannie Mae (FNMA)</td>\n",
       "      <td>1</td>\n",
       "      <td>Not a HOEPA loan</td>\n",
       "      <td>2</td>\n",
       "      <td>Secured by a first lien</td>\n",
       "      <td>1</td>\n",
       "      <td>324</td>\n",
       "      <td>3177.0</td>\n",
       "      <td>28.77</td>\n",
       "      <td>54000.0</td>\n",
       "      <td>61.650002</td>\n",
       "      <td>160.0</td>\n",
       "      <td>773.0</td>\n",
       "      <td>0</td>\n",
       "    </tr>\n",
       "    <tr>\n",
       "      <th>1</th>\n",
       "      <td>1</td>\n",
       "      <td>0000476810</td>\n",
       "      <td>Consumer Financial Protection Bureau</td>\n",
       "      <td>CFPB</td>\n",
       "      <td>9</td>\n",
       "      <td>Conventional</td>\n",
       "      <td>1</td>\n",
       "      <td>One-to-four family dwelling (other than manufa...</td>\n",
       "      <td>1</td>\n",
       "      <td>Refinancing</td>\n",
       "      <td>3</td>\n",
       "      <td>Owner-occupied as a principal dwelling</td>\n",
       "      <td>1</td>\n",
       "      <td>58</td>\n",
       "      <td>Not applicable</td>\n",
       "      <td>3</td>\n",
       "      <td>Loan originated</td>\n",
       "      <td>1</td>\n",
       "      <td>Macon - GA</td>\n",
       "      <td>31420.0</td>\n",
       "      <td>Georgia</td>\n",
       "      <td>GA</td>\n",
       "      <td>13.0</td>\n",
       "      <td>Bibb County</td>\n",
       "      <td>21.0</td>\n",
       "      <td>134.09</td>\n",
       "      <td>Not Hispanic or Latino</td>\n",
       "      <td>2</td>\n",
       "      <td>No co-applicant</td>\n",
       "      <td>5</td>\n",
       "      <td>White</td>\n",
       "      <td>5</td>\n",
       "      <td>No co-applicant</td>\n",
       "      <td>8</td>\n",
       "      <td>Female</td>\n",
       "      <td>2</td>\n",
       "      <td>No co-applicant</td>\n",
       "      <td>5</td>\n",
       "      <td>15.0</td>\n",
       "      <td>Affiliate institution</td>\n",
       "      <td>8</td>\n",
       "      <td>Not a HOEPA loan</td>\n",
       "      <td>2</td>\n",
       "      <td>Secured by a first lien</td>\n",
       "      <td>1</td>\n",
       "      <td>45374</td>\n",
       "      <td>4143.0</td>\n",
       "      <td>33.48</td>\n",
       "      <td>49800.0</td>\n",
       "      <td>148.050003</td>\n",
       "      <td>1110.0</td>\n",
       "      <td>1352.0</td>\n",
       "      <td>0</td>\n",
       "    </tr>\n",
       "  </tbody>\n",
       "</table>\n",
       "</div>"
      ],
      "text/plain": [
       "   Unnamed: 0  ... application_date_indicator\n",
       "0           0  ...                          0\n",
       "1           1  ...                          0\n",
       "\n",
       "[2 rows x 53 columns]"
      ]
     },
     "execution_count": 10,
     "metadata": {
      "tags": []
     },
     "output_type": "execute_result"
    }
   ],
   "source": [
    "#df_records.isnull().sum() ##All is well\n",
    "df_records.head(2)"
   ]
  },
  {
   "cell_type": "code",
   "execution_count": null,
   "metadata": {
    "colab": {
     "base_uri": "https://localhost:8080/"
    },
    "id": "XTNJt6xILLj_",
    "outputId": "db527e9d-6bfe-4ea4-bb2e-1868962bbc5a"
   },
   "outputs": [
    {
     "data": {
      "text/plain": [
       "Loan originated                                        3822430\n",
       "Application denied by financial institution            1227255\n",
       "Application withdrawn by applicant                      683344\n",
       "Loan purchased by the institution                       542628\n",
       "Application approved but not accepted                   248320\n",
       "File closed for incompleteness                          244594\n",
       "Preapproval request denied by financial institution        410\n",
       "Preapproval request approved but not accepted              131\n",
       "Name: action_taken_name, dtype: int64"
      ]
     },
     "execution_count": 11,
     "metadata": {
      "tags": []
     },
     "output_type": "execute_result"
    }
   ],
   "source": [
    "#The actions will be modified before the ML model\n",
    "df_records['action_taken_name'].value_counts()#(normalize=True).plot.bar(figsize=(5,5), title='Actions Taken')"
   ]
  },
  {
   "cell_type": "markdown",
   "metadata": {
    "id": "uhaxAUp62UCV"
   },
   "source": [
    "#**Data Analysis**"
   ]
  },
  {
   "cell_type": "markdown",
   "metadata": {
    "id": "PRpZOKkt2cl6"
   },
   "source": [
    "##What we will find:\n",
    "- The relation between the loan approval and the ethnicity,race and gender of the applicant. -> **Done**\n",
    "- The relation between the loan approval and the location of the applicant (the county, state, and msamd). -> **Done**\n",
    "- The relation between the loan approval and the purpose of the loan (purposes are mentioned above). -> **Done**\n",
    "- The relation between the loan approval and the agency that the financial institution is a part of. -> **Done**\n",
    "- Pre-approval application effect on the acceptance. -> **Done**\n",
    "- The relation between the location, the total population and the minority population and the loan approval. -> **Done**"
   ]
  },
  {
   "cell_type": "markdown",
   "metadata": {
    "id": "0JiZCkv10I51"
   },
   "source": [
    "### **Ethnicity**"
   ]
  },
  {
   "cell_type": "code",
   "execution_count": null,
   "metadata": {
    "id": "20NQ2sGxpjGr"
   },
   "outputs": [],
   "source": [
    "file_path = 'gdrive/MyDrive/Final Project/data_useful_updated.csv'"
   ]
  },
  {
   "cell_type": "code",
   "execution_count": null,
   "metadata": {
    "id": "Da5ZolMVvjll"
   },
   "outputs": [],
   "source": [
    "rawData= spark.read.format(\"csv\").option(\"header\", \"true\").load(file_path)"
   ]
  },
  {
   "cell_type": "code",
   "execution_count": null,
   "metadata": {
    "id": "plRAaYD9E8JA"
   },
   "outputs": [],
   "source": [
    "total_rows = rawData.count()"
   ]
  },
  {
   "cell_type": "code",
   "execution_count": null,
   "metadata": {
    "colab": {
     "base_uri": "https://localhost:8080/"
    },
    "id": "zOHIZuucfIHP",
    "outputId": "caeb1905-2179-4b51-b41f-ee203daac0e6"
   },
   "outputs": [
    {
     "data": {
      "text/plain": [
       "6769112"
      ]
     },
     "execution_count": 171,
     "metadata": {
      "tags": []
     },
     "output_type": "execute_result"
    }
   ],
   "source": [
    "total_rows"
   ]
  },
  {
   "cell_type": "code",
   "execution_count": null,
   "metadata": {
    "id": "6SBls_O7cA-s"
   },
   "outputs": [],
   "source": [
    "purCount = rawData.groupBy('purchaser_type_name').count().orderBy(['count'], ascending = False)\n",
    "purCount.show()"
   ]
  },
  {
   "cell_type": "code",
   "execution_count": null,
   "metadata": {
    "id": "ZQR7RW4LxmZ_"
   },
   "outputs": [],
   "source": [
    "#rawData.printSchema()"
   ]
  },
  {
   "cell_type": "code",
   "execution_count": null,
   "metadata": {
    "id": "5084aeyQLmm8"
   },
   "outputs": [],
   "source": [
    "er = \"Information not provided by applicant in mail, Internet, or telephone application\"\n",
    "parDF = rawData.select(col(\"respondent_id\").alias(\"finID\"),col(\"sequence_number\").alias(\"loanID\"), #loan identifiers\n",
    "                     col(\"applicant_ethnicity_name\").alias(\"eth_appl\"),col(\"co_applicant_ethnicity_name\").alias(\"co_eth_appl\"), #ethnicity\n",
    "                     col(\"applicant_race_name_1\").alias(\"race_applicant\"),col(\"co_applicant_race_name_1\").alias(\"co_race_applicant\"), #race\n",
    "                     col(\"applicant_sex_name\").alias(\"gen_applicant\"),col(\"co_applicant_sex_name\").alias(\"co_gen_applicant\") #gender\n",
    "                     ,col(\"action_taken_name\").alias(\"action\"), col(\"applicant_income_000s\").alias(\"income\"),\n",
    "                     col(\"loan_amount_000s\").alias(\"amount\"))\n",
    "#modify ethnicity values\n",
    "parDF = parDF.withColumn(\"eth_appl\", F.when(F.col(\"eth_appl\")== er,\"NotAvailable\").otherwise(F.col(\"eth_appl\")))\\\n",
    "              .withColumn(\"eth_appl\", F.when(F.col(\"eth_appl\")== \"Not applicable\",\"NotAvailable\").otherwise(F.col(\"eth_appl\")))\\\n",
    "              .withColumn(\"co_eth_appl\", F.when(F.col(\"co_eth_appl\")== er,\"NotAvailable\").otherwise(F.col(\"co_eth_appl\")))\\\n",
    "              .withColumn(\"co_eth_appl\", F.when(F.col(\"co_eth_appl\")== \"Not applicable\",\"NotAvailable\").otherwise(F.col(\"co_eth_appl\")))\\\n",
    "              .withColumn(\"co_eth_appl\", F.when(F.col(\"co_eth_appl\")== \"No co-applicant\",\"NotAvailable\").otherwise(F.col(\"co_eth_appl\")))\n",
    "#modify race values\n",
    "parDF = parDF.withColumn(\"race_applicant\", F.when(F.col(\"race_applicant\")== er,\"NotAvailable\").otherwise(F.col(\"race_applicant\")))\\\n",
    "              .withColumn(\"race_applicant\", F.when(F.col(\"race_applicant\")== \"Not applicable\",\"NotAvailable\").otherwise(F.col(\"race_applicant\")))\\\n",
    "              .withColumn(\"co_race_applicant\", F.when(F.col(\"co_race_applicant\")== er,\"NotAvailable\").otherwise(F.col(\"co_race_applicant\")))\\\n",
    "              .withColumn(\"co_race_applicant\", F.when(F.col(\"co_race_applicant\")== \"Not applicable\",\"NotAvailable\").otherwise(F.col(\"co_race_applicant\")))\\\n",
    "              .withColumn(\"co_race_applicant\", F.when(F.col(\"co_race_applicant\")== \"No co-applicant\",\"NotAvailable\").otherwise(F.col(\"co_race_applicant\")))\n",
    "#modify gender values\n",
    "parDF = parDF.withColumn(\"gen_applicant\", F.when(F.col(\"gen_applicant\")== er,\"NotAvailable\").otherwise(F.col(\"gen_applicant\")))\\\n",
    "              .withColumn(\"gen_applicant\", F.when(F.col(\"gen_applicant\")== \"Not applicable\",\"NotAvailable\").otherwise(F.col(\"gen_applicant\")))\\\n",
    "              .withColumn(\"co_gen_applicant\", F.when(F.col(\"co_gen_applicant\")== er,\"NotAvailable\").otherwise(F.col(\"co_gen_applicant\")))\\\n",
    "              .withColumn(\"co_gen_applicant\", F.when(F.col(\"co_gen_applicant\")== \"Not applicable\",\"NotAvailable\").otherwise(F.col(\"co_gen_applicant\")))\\\n",
    "              .withColumn(\"co_gen_applicant\", F.when(F.col(\"co_gen_applicant\")== \"No co-applicant\",\"NotAvailable\").otherwise(F.col(\"co_gen_applicant\")))\n",
    "\n",
    "parDF.show(5)"
   ]
  },
  {
   "cell_type": "code",
   "execution_count": null,
   "metadata": {
    "id": "xOiYi1dt-DUv"
   },
   "outputs": [],
   "source": [
    "def sortAlph (x):\n",
    "  str1 = str(x[0]).lower().split()[0]\n",
    "  str2 = str(x[1]).lower().split()[0]\n",
    "  my_str = str1+'<t>'+str2\n",
    "  words = [word for word in my_str.split('<t>')]\n",
    "  words.sort()\n",
    "  if words[0] in str1:\n",
    "    ind_1 = x[0]\n",
    "    ind_2 = x[1]\n",
    "  else:\n",
    "    ind_1 = x[1]\n",
    "    ind_2 = x[0]\n",
    "  return (ind_1, ind_2)"
   ]
  },
  {
   "cell_type": "code",
   "execution_count": null,
   "metadata": {
    "colab": {
     "base_uri": "https://localhost:8080/"
    },
    "id": "6Uog3R29BZci",
    "outputId": "5542a4bf-e0d0-46ae-c006-302ea2a4975f"
   },
   "outputs": [
    {
     "data": {
      "text/plain": [
       "('Not applicable', 'Not Hispano or latino')"
      ]
     },
     "execution_count": 49,
     "metadata": {
      "tags": []
     },
     "output_type": "execute_result"
    }
   ],
   "source": [
    "x = ('Not applicable','Not Hispano or latino',)\n",
    "sortAlph (x)"
   ]
  },
  {
   "cell_type": "code",
   "execution_count": null,
   "metadata": {
    "colab": {
     "base_uri": "https://localhost:8080/"
    },
    "id": "phYhen93c5RM",
    "outputId": "a4aa7bd1-f683-409f-933d-4e1e89aa4b21"
   },
   "outputs": [
    {
     "name": "stdout",
     "output_type": "stream",
     "text": [
      "+--------------------+-----------------------+\n",
      "|Applicants Ethnicity|percentage of Ethnicity|\n",
      "+--------------------+-----------------------+\n",
      "|Not Hispanic or L...|                  76.94|\n",
      "|        NotAvailable|                  12.67|\n",
      "|  Hispanic or Latino|                  10.38|\n",
      "+--------------------+-----------------------+\n",
      "\n"
     ]
    }
   ],
   "source": [
    "#Percentage of each ethnicity\n",
    "#ethTotalCounts = parDF.rdd.map(lambda x: (x[2],x[3])).map(lambda x: sortAlph(x)) \\\n",
    "#                    .map(lambda x: ((x[0],x[1]),1)) \\\n",
    "#                    .reduceByKey(lambda x,y: x+y).map(lambda x: (x[0][0],x[0][1],round((x[1]/total_rows)*100,2))) \\\n",
    "#                    .toDF(['Ethnicity_1', 'Ethnicity_2', 'percentage of Ethnicity']) \\\n",
    "#                    .orderBy(['percentage of Ethnicity'], ascending = False)\n",
    "ethTotalCounts = parDF.rdd.map(lambda x: (x[2],1)) \\\n",
    "                    .reduceByKey(lambda x,y: x+y).map(lambda x: (x[0],round((x[1]/total_rows)*100,2))) \\\n",
    "                    .toDF(['Applicant''s Ethnicity', 'percentage of Ethnicity']) \\\n",
    "                    .orderBy(['percentage of Ethnicity'], ascending = False)\n",
    "ethTotalCounts.show()"
   ]
  },
  {
   "cell_type": "code",
   "execution_count": null,
   "metadata": {
    "id": "-FejfYUhRX_4"
   },
   "outputs": [],
   "source": [
    "approvedDF = parDF.rdd.filter(lambda x: x[8]=='Loan originated' or x[8]=='Loan purchased by the institution')\n",
    "total_approved = approvedDF.toDF().count()"
   ]
  },
  {
   "cell_type": "code",
   "execution_count": null,
   "metadata": {
    "id": "160Mfw7dYo6S"
   },
   "outputs": [],
   "source": [
    "rejectedDF = parDF.rdd.filter(lambda x: x[8]!='Loan originated' and x[8]!='File closed for incompleteness' and \n",
    "                              x[8]!='Application withdrawn by applicant' and x[8]!='Loan purchased by the institution')\n",
    "total_rejected = rejectedDF.toDF().count()"
   ]
  },
  {
   "cell_type": "code",
   "execution_count": null,
   "metadata": {
    "colab": {
     "base_uri": "https://localhost:8080/"
    },
    "id": "54RwsrZdtiYK",
    "outputId": "ffd988ff-2757-4031-9c56-5c8b569b5687"
   },
   "outputs": [
    {
     "name": "stdout",
     "output_type": "stream",
     "text": [
      "+--------------------+----------------------+\n",
      "|Applicants Ethnicity|percentage of approval|\n",
      "+--------------------+----------------------+\n",
      "|Not Hispanic or L...|                 78.45|\n",
      "|        NotAvailable|                 12.18|\n",
      "|  Hispanic or Latino|                  9.38|\n",
      "+--------------------+----------------------+\n",
      "\n"
     ]
    }
   ],
   "source": [
    "#Ethnicity\n",
    "#ethCounts = approvedDF.map(lambda x: (x[2],x[3])).map(lambda x: sortAlph(x)) \\\n",
    "#                    .map(lambda x: ((x[0],x[1]),1)) \\\n",
    "#                    .reduceByKey(lambda x,y: x+y).map(lambda x: (x[0][0],x[0][1],round((x[1]/total_approved)*100,2))) \\\n",
    "#                    .toDF(['Ethnicity_1', 'Ethnicity_2', 'percentage of approval']) \\\n",
    "#                    .orderBy(['percentage of approval'], ascending = False)\n",
    "\n",
    "ethCounts = approvedDF.map(lambda x: (x[2],1)) \\\n",
    "                    .reduceByKey(lambda x,y: x+y).map(lambda x: (x[0],round((x[1]/total_approved)*100,2))) \\\n",
    "                    .toDF(['Applicant''s Ethnicity', 'percentage of approval']) \\\n",
    "                    .orderBy(['percentage of approval'], ascending = False)\n",
    "ethCounts.show()"
   ]
  },
  {
   "cell_type": "code",
   "execution_count": null,
   "metadata": {
    "colab": {
     "base_uri": "https://localhost:8080/"
    },
    "id": "MYs--lMKZsB5",
    "outputId": "f8f97e4a-e8b7-4bdd-f8f7-75072e1e3fbd"
   },
   "outputs": [
    {
     "name": "stdout",
     "output_type": "stream",
     "text": [
      "+--------------------+-----------------------+\n",
      "|Applicants Ethnicity|percentage of Rejection|\n",
      "+--------------------+-----------------------+\n",
      "|Not Hispanic or L...|                  73.61|\n",
      "|        NotAvailable|                   13.5|\n",
      "|  Hispanic or Latino|                  12.89|\n",
      "+--------------------+-----------------------+\n",
      "\n"
     ]
    }
   ],
   "source": [
    "#Rejected Ethnicity\n",
    "#ethCounts_rej = rejectedDF.map(lambda x: (x[2],x[3])).map(lambda x: sortAlph(x)) \\\n",
    "#                    .map(lambda x: ((x[0],x[1]),1)) \\\n",
    "#                    .reduceByKey(lambda x,y: x+y).map(lambda x: (x[0][0],x[0][1],round((x[1]/total_rejected)*100,2))) \\\n",
    "#                    .toDF(['Ethnicity_1', 'Ethnicity_2', 'percentage of Rejection']) \\\n",
    "#                    .orderBy(['percentage of Rejection'], ascending = False)\n",
    "ethCounts_rej = rejectedDF.map(lambda x: (x[2],1)) \\\n",
    "                    .reduceByKey(lambda x,y: x+y).map(lambda x: (x[0],round((x[1]/total_rejected)*100,2))) \\\n",
    "                    .toDF(['Applicant''s Ethnicity', 'percentage of Rejection']) \\\n",
    "                    .orderBy(['percentage of Rejection'], ascending = False)\n",
    "ethCounts_rej.show()"
   ]
  },
  {
   "cell_type": "markdown",
   "metadata": {
    "id": "4WBLRsyvdSpo"
   },
   "source": [
    "### **Race**"
   ]
  },
  {
   "cell_type": "code",
   "execution_count": null,
   "metadata": {
    "colab": {
     "base_uri": "https://localhost:8080/"
    },
    "id": "nhfNfjIP3hs8",
    "outputId": "79edff87-0c9a-4f1e-fc71-02c81e9417d9"
   },
   "outputs": [
    {
     "name": "stdout",
     "output_type": "stream",
     "text": [
      "+--------------------+----------------------+\n",
      "|     Applicants Race|percentage of approval|\n",
      "+--------------------+----------------------+\n",
      "|               White|                 75.25|\n",
      "|        NotAvailable|                 12.54|\n",
      "|               Asian|                  5.66|\n",
      "|Black or African ...|                  5.58|\n",
      "|American Indian o...|                  0.59|\n",
      "|Native Hawaiian o...|                  0.38|\n",
      "+--------------------+----------------------+\n",
      "\n"
     ]
    }
   ],
   "source": [
    "#Race\n",
    "#raceCounts = approvedDF.map(lambda x: (x[4],x[5])).map(lambda x: sortAlph(x)) \\\n",
    "#                    .map(lambda x: ((x[0],x[1]),1)) \\\n",
    "#                    .reduceByKey(lambda x,y: x+y).map(lambda x: (x[0][0],x[0][1],round((x[1]/total_approved)*100,2))) \\\n",
    "#                    .toDF(['Race_1', 'Race_2', 'percentage of approval']) \\\n",
    "#                    .orderBy(['percentage of approval'], ascending = False)\n",
    "\n",
    "raceCounts = approvedDF.map(lambda x: (x[4],1)) \\\n",
    "                    .reduceByKey(lambda x,y: x+y).map(lambda x: (x[0],round((x[1]/total_approved)*100,2))) \\\n",
    "                    .toDF(['Applicant''s Race', 'percentage of approval']) \\\n",
    "                    .orderBy(['percentage of approval'], ascending = False)\n",
    "raceCounts.show()"
   ]
  },
  {
   "cell_type": "code",
   "execution_count": null,
   "metadata": {
    "colab": {
     "base_uri": "https://localhost:8080/"
    },
    "id": "YSYFcCIbZ70q",
    "outputId": "ccc47d62-f784-4b91-827f-bcd06099577d"
   },
   "outputs": [
    {
     "name": "stdout",
     "output_type": "stream",
     "text": [
      "+--------------------+-----------------------+\n",
      "|     Applicants Race|percentage of Rejection|\n",
      "+--------------------+-----------------------+\n",
      "|               White|                  67.63|\n",
      "|        NotAvailable|                  14.05|\n",
      "|Black or African ...|                  11.44|\n",
      "|               Asian|                   5.26|\n",
      "|American Indian o...|                   1.09|\n",
      "|Native Hawaiian o...|                   0.54|\n",
      "+--------------------+-----------------------+\n",
      "\n"
     ]
    }
   ],
   "source": [
    "#Race\n",
    "#raceCounts_rej = rejectedDF.map(lambda x: (x[4],x[5])).map(lambda x: sortAlph(x)) \\\n",
    "#                    .map(lambda x: ((x[0],x[1]),1)) \\\n",
    "#                    .reduceByKey(lambda x,y: x+y).map(lambda x: (x[0][0],x[0][1],round((x[1]/total_rejected)*100,2))) \\\n",
    "#                    .toDF(['Race_1', 'Race_2', 'percentage of Rejection']) \\\n",
    "#                   .orderBy(['percentage of Rejection'], ascending = False)\n",
    "\n",
    "raceCounts_rej = rejectedDF.map(lambda x: (x[4],1)) \\\n",
    "                    .reduceByKey(lambda x,y: x+y).map(lambda x: (x[0],round((x[1]/total_rejected)*100,2))) \\\n",
    "                    .toDF(['Applicant''s Race', 'percentage of Rejection']) \\\n",
    "                    .orderBy(['percentage of Rejection'], ascending = False)\n",
    "raceCounts_rej.show()"
   ]
  },
  {
   "cell_type": "code",
   "execution_count": null,
   "metadata": {
    "colab": {
     "base_uri": "https://localhost:8080/"
    },
    "id": "YFPSZ9T2s8mN",
    "outputId": "79a13a48-bd4a-4d08-a24e-431bd010400f"
   },
   "outputs": [
    {
     "name": "stdout",
     "output_type": "stream",
     "text": [
      "+--------------------+--------------------+-------------------+--------------+---------------+\n",
      "|              Action|   Race of Applicant|Average Loan Amount|Average Income|Count of Action|\n",
      "+--------------------+--------------------+-------------------+--------------+---------------+\n",
      "|     Loan originated|               White|             217.36|        112.05|        2978797|\n",
      "|Application denie...|               White|             180.77|         90.03|         819612|\n",
      "|Application withd...|               White|             225.49|        112.96|         488952|\n",
      "|     Loan originated|        NotAvailable|              253.6|        131.23|         361822|\n",
      "|Loan purchased by...|               White|              203.2|         88.11|         305746|\n",
      "|     Loan originated|               Asian|             319.21|        136.77|         228488|\n",
      "|     Loan originated|Black or African ...|             173.69|         81.36|         215672|\n",
      "|Loan purchased by...|        NotAvailable|             216.13|        103.77|         185689|\n",
      "|Application appro...|               White|             196.08|        106.99|         178188|\n",
      "|Application denie...|        NotAvailable|             181.47|         93.64|         176407|\n",
      "|File closed for i...|               White|             220.92|         113.1|         161270|\n",
      "|Application denie...|Black or African ...|             126.09|         66.17|         148196|\n",
      "|Application withd...|        NotAvailable|             247.47|        125.06|          94437|\n",
      "|Application denie...|               Asian|             277.86|        114.09|          62327|\n",
      "|Application withd...|Black or African ...|             181.18|         82.49|          50562|\n",
      "|File closed for i...|        NotAvailable|             228.52|        113.55|          44557|\n",
      "|Application withd...|               Asian|             311.69|        138.74|          41416|\n",
      "|Application appro...|        NotAvailable|             212.06|         118.0|          30987|\n",
      "|Loan purchased by...|Black or African ...|             189.36|         72.72|          28099|\n",
      "|     Loan originated|American Indian o...|             182.63|         91.76|          22834|\n",
      "+--------------------+--------------------+-------------------+--------------+---------------+\n",
      "only showing top 20 rows\n",
      "\n"
     ]
    }
   ],
   "source": [
    "#Relation between \n",
    "#(approval/denial, race) and (average loan amount, average income, percenteage of approval/denial)\n",
    "raceRela = parDF.rdd.map(lambda x: ((x[8],x[4]),(float(x[10]),float(x[9]),1))) \\\n",
    "                    .reduceByKey(lambda x,y: (x[0]+y[0], x[1]+y[1], x[2]+y[2]))\\\n",
    "                    .map(lambda x: (x[0][0],x[0][1], round(x[1][0]/x[1][2],2), round(x[1][1]/x[1][2],2), x[1][2])) \\\n",
    "                    .toDF(['Action','Race of Applicant','Average Loan Amount','Average Income','Count of Action']) \\\n",
    "                    .orderBy(['Count of Action'], ascending = False)\n",
    "raceRela.show()"
   ]
  },
  {
   "cell_type": "code",
   "execution_count": null,
   "metadata": {
    "colab": {
     "base_uri": "https://localhost:8080/"
    },
    "id": "Ht-cnsEdxxrI",
    "outputId": "74f2402f-50e0-4a7b-b537-f7b9495a7ace"
   },
   "outputs": [
    {
     "name": "stdout",
     "output_type": "stream",
     "text": [
      "+---------------+--------------------+-------------------+--------------+---------------+\n",
      "|         Action|   Race of Applicant|Average Loan Amount|Average Income|Count of Action|\n",
      "+---------------+--------------------+-------------------+--------------+---------------+\n",
      "|Loan originated|               White|             217.36|        112.05|        2978797|\n",
      "|Loan originated|        NotAvailable|              253.6|        131.23|         361822|\n",
      "|Loan originated|               Asian|             319.21|        136.77|         228488|\n",
      "|Loan originated|Black or African ...|             173.69|         81.36|         215672|\n",
      "|Loan originated|American Indian o...|             182.63|         91.76|          22834|\n",
      "|Loan originated|Native Hawaiian o...|             233.76|        102.64|          14817|\n",
      "+---------------+--------------------+-------------------+--------------+---------------+\n",
      "\n"
     ]
    }
   ],
   "source": [
    "raceRela[raceRela['Action']==\"Loan originated\"].show()"
   ]
  },
  {
   "cell_type": "markdown",
   "metadata": {
    "id": "BzNsFgrDdZWw"
   },
   "source": [
    "### **Gender**"
   ]
  },
  {
   "cell_type": "code",
   "execution_count": null,
   "metadata": {
    "colab": {
     "base_uri": "https://localhost:8080/"
    },
    "id": "B2BBRfSNPZXz",
    "outputId": "4d8247c3-1b7c-49a7-9aff-0a238fdbb3e3"
   },
   "outputs": [
    {
     "name": "stdout",
     "output_type": "stream",
     "text": [
      "+-----------------+----------------------+\n",
      "|Applicants Gender|percentage of approval|\n",
      "+-----------------+----------------------+\n",
      "|             Male|                 64.31|\n",
      "|           Female|                 26.82|\n",
      "|     NotAvailable|                  8.87|\n",
      "+-----------------+----------------------+\n",
      "\n"
     ]
    }
   ],
   "source": [
    "#gender\n",
    "#genderCounts = approvedDF.map(lambda x: (x[6],x[7])).map(lambda x: sortAlph(x)) \\\n",
    "#                    .map(lambda x: ((x[0],x[1]),1)) \\\n",
    "#                    .reduceByKey(lambda x,y: x+y).map(lambda x: (x[0][0],x[0][1],round((x[1]/total_approved)*100,2))) \\\n",
    "#                    .toDF(['Gender_1', 'Gender_2', 'percentage of approval']) \\\n",
    "#                    .orderBy(['percentage of approval'], ascending = False)\n",
    "\n",
    "genderCounts = approvedDF.map(lambda x: (x[6],1)) \\\n",
    "                    .reduceByKey(lambda x,y: x+y).map(lambda x: (x[0],round((x[1]/total_approved)*100,2))) \\\n",
    "                    .toDF(['Applicant''s Gender', 'percentage of approval']) \\\n",
    "                    .orderBy(['percentage of approval'], ascending = False)\n",
    "genderCounts.show()"
   ]
  },
  {
   "cell_type": "code",
   "execution_count": null,
   "metadata": {
    "colab": {
     "base_uri": "https://localhost:8080/"
    },
    "id": "Eva2RH7dHVEy",
    "outputId": "9f58e56d-6161-486e-85c7-95e917eae86e"
   },
   "outputs": [
    {
     "name": "stdout",
     "output_type": "stream",
     "text": [
      "+-----------------+-----------------------+\n",
      "|Applicants Gender|percentage of Rejection|\n",
      "+-----------------+-----------------------+\n",
      "|             Male|                  60.71|\n",
      "|           Female|                  31.06|\n",
      "|     NotAvailable|                   8.24|\n",
      "+-----------------+-----------------------+\n",
      "\n"
     ]
    }
   ],
   "source": [
    "genderCounts_rej = rejectedDF.map(lambda x: (x[6],1)) \\\n",
    "                    .reduceByKey(lambda x,y: x+y).map(lambda x: (x[0],round((x[1]/total_rejected)*100,2))) \\\n",
    "                    .toDF(['Applicant''s Gender', 'percentage of Rejection']) \\\n",
    "                    .orderBy(['percentage of Rejection'], ascending = False)\n",
    "genderCounts_rej.show()"
   ]
  },
  {
   "cell_type": "code",
   "execution_count": null,
   "metadata": {
    "colab": {
     "base_uri": "https://localhost:8080/"
    },
    "id": "tuntwy4Fz61S",
    "outputId": "bcbb86d1-f4f9-4d9c-9c96-918fa92a5b05"
   },
   "outputs": [
    {
     "name": "stdout",
     "output_type": "stream",
     "text": [
      "+--------------------+-------------------+-------------------+--------------+---------------+\n",
      "|              Action|Gender of Applicant|Average Loan Amount|Average Income|Count of Action|\n",
      "+--------------------+-------------------+-------------------+--------------+---------------+\n",
      "|     Loan originated|               Male|             237.17|        122.23|        2547191|\n",
      "|     Loan originated|             Female|              187.3|         87.62|        1061197|\n",
      "|Application denie...|               Male|             197.16|         97.33|         736858|\n",
      "|Application withd...|               Male|             243.39|        122.18|         439228|\n",
      "|Application denie...|             Female|              142.9|         69.75|         386161|\n",
      "|Loan purchased by...|               Male|             217.23|         94.43|         260036|\n",
      "|     Loan originated|       NotAvailable|             253.95|        137.12|         214042|\n",
      "|Application withd...|             Female|             193.12|         88.51|         188147|\n",
      "|Loan purchased by...|       NotAvailable|             214.19|         104.0|         173289|\n",
      "|Application appro...|               Male|             215.12|        116.93|         158861|\n",
      "|File closed for i...|               Male|             237.96|        121.84|         153144|\n",
      "|Loan purchased by...|             Female|             183.51|         73.63|         109303|\n",
      "|Application denie...|       NotAvailable|             180.24|         97.18|         104236|\n",
      "|Application appro...|             Female|             162.88|         81.65|          72152|\n",
      "|File closed for i...|             Female|             185.35|         86.28|          65373|\n",
      "|Application withd...|       NotAvailable|             252.75|        132.22|          55969|\n",
      "|File closed for i...|       NotAvailable|             229.39|        118.21|          26077|\n",
      "|Application appro...|       NotAvailable|             220.99|        126.02|          17307|\n",
      "|Preapproval reque...|               Male|             220.47|         81.48|            273|\n",
      "|Preapproval reque...|             Female|             160.43|         61.37|            124|\n",
      "+--------------------+-------------------+-------------------+--------------+---------------+\n",
      "only showing top 20 rows\n",
      "\n"
     ]
    }
   ],
   "source": [
    "#(approval/denial, gender) and (average loan amount, average income, percenteage of approval/denial)\n",
    "genRela = parDF.rdd.map(lambda x: ((x[8],x[6]),(float(x[10]),float(x[9]),1))) \\\n",
    "                    .reduceByKey(lambda x,y: (x[0]+y[0], x[1]+y[1], x[2]+y[2]))\\\n",
    "                    .map(lambda x: (x[0][0],x[0][1], round(x[1][0]/x[1][2],2), round(x[1][1]/x[1][2],2), x[1][2])) \\\n",
    "                    .toDF(['Action','Gender of Applicant','Average Loan Amount','Average Income','Count of Action']) \\\n",
    "                    .orderBy(['Count of Action'], ascending = False)\n",
    "genRela.show()"
   ]
  },
  {
   "cell_type": "markdown",
   "metadata": {
    "id": "o-tPJbAPv5wF"
   },
   "source": [
    "#### **Average Income for each gender**"
   ]
  },
  {
   "cell_type": "code",
   "execution_count": null,
   "metadata": {
    "colab": {
     "base_uri": "https://localhost:8080/"
    },
    "id": "vfCdUzohRXko",
    "outputId": "fc5668bd-0c4c-41de-a61f-53d8bd8e6c3f"
   },
   "outputs": [
    {
     "name": "stdout",
     "output_type": "stream",
     "text": [
      "+----------------+--------------+\n",
      "|Applicants Gendr|Average Income|\n",
      "+----------------+--------------+\n",
      "|    NotAvailable|        118.74|\n",
      "|            Male|        116.06|\n",
      "|          Female|         82.95|\n",
      "+----------------+--------------+\n",
      "\n"
     ]
    }
   ],
   "source": [
    "incomeGender = parDF.rdd.map(lambda x: (x[6],(float(x[9]),1))).reduceByKey(lambda x,y: (x[0]+y[0], x[1]+y[1])).map(lambda x: (x[0], round(x[1][0]/x[1][1],2))) \\\n",
    "                    .toDF(['Applicant''s Gendr', 'Average Income']) \\\n",
    "                    .orderBy(['Average Income'], ascending = False)\n",
    "incomeGender.show()"
   ]
  },
  {
   "cell_type": "markdown",
   "metadata": {
    "id": "XAYcPmkKRm9N"
   },
   "source": [
    "### **Location Relations**"
   ]
  },
  {
   "cell_type": "code",
   "execution_count": null,
   "metadata": {
    "colab": {
     "base_uri": "https://localhost:8080/"
    },
    "id": "wM8pB29gRmXn",
    "outputId": "24a5ee0c-de93-4298-a7aa-7dd577585290"
   },
   "outputs": [
    {
     "name": "stdout",
     "output_type": "stream",
     "text": [
      "+----------+----------+--------------------+----------------+----------+------------------+--------------------+----------------+--------------------+--------------------+------------+------+-----------+----------------+--------------------+--------------------+--------------------+-------------+\n",
      "|     finID|     state|               msamd|          county|population|          minority|              action|         purpose|              agency|         preapproval|   loan_type|income|loan_amount|           hoepa|                lien|           occupancy|       property_type|family_income|\n",
      "+----------+----------+--------------------+----------------+----------+------------------+--------------------+----------------+--------------------+--------------------+------------+------+-----------+----------------+--------------------+--------------------+--------------------+-------------+\n",
      "|0000019506|  Illinois|Carbondale, Mario...|  Jackson County|    3177.0|28.770000457763672|     Loan originated|   Home purchase|Federal Deposit I...|Preapproval was n...|Conventional| 167.0|         81|Not a HOEPA loan|Secured by a firs...|Not owner-occupie...|One-to-four famil...|      54000.0|\n",
      "|0000476810|   Georgia|          Macon - GA|     Bibb County|    4143.0| 33.47999954223633|     Loan originated|     Refinancing|Consumer Financia...|      Not applicable|Conventional|  15.0|         58|Not a HOEPA loan|Secured by a firs...|Owner-occupied as...|One-to-four famil...|      49800.0|\n",
      "|0000504713|   Alabama|Birmingham, Hoove...|Jefferson County|    5593.0|17.610000610351562|     Loan originated|   Home purchase|Consumer Financia...|Preapproval was r...|Conventional| 258.0|        150|Not a HOEPA loan|Secured by a firs...|Not owner-occupie...|One-to-four famil...|      61000.0|\n",
      "|26-2261031|      Ohio|Cleveland, Elyria...|   Lorain County|    3641.0| 6.449999809265138|Application appro...|Home improvement|Department of Hou...|      Not applicable|Conventional|  35.0|         74|Not a HOEPA loan|Secured by a firs...|Owner-occupied as...|One-to-four famil...|      62600.0|\n",
      "|0000476810|California|San Diego, Carlsb...|San Diego County|    4942.0| 19.15999984741211|Loan purchased by...|     Refinancing|Consumer Financia...|      Not applicable|Conventional| 295.0|        498|Not a HOEPA loan|      Not applicable|Owner-occupied as...|One-to-four famil...|      72700.0|\n",
      "+----------+----------+--------------------+----------------+----------+------------------+--------------------+----------------+--------------------+--------------------+------------+------+-----------+----------------+--------------------+--------------------+--------------------+-------------+\n",
      "only showing top 5 rows\n",
      "\n"
     ]
    }
   ],
   "source": [
    "parDF_2 = rawData.select(col(\"respondent_id\").alias(\"finID\"),col(\"state_name\").alias(\"state\"),\n",
    "                     col(\"msamd_name\").alias(\"msamd\"),\n",
    "                     col(\"county_name\").alias(\"county\"),col(\"population\").alias(\"population\"),\n",
    "                     col(\"minority_population\").alias(\"minority\"),\n",
    "                     col(\"action_taken_name\").alias(\"action\"), col(\"loan_purpose_name\").alias(\"purpose\"),\n",
    "                     col(\"agency_name\").alias(\"agency\"),col(\"preapproval_name\").alias(\"preapproval\"),\n",
    "                     col(\"loan_type_name\").alias(\"loan_type\"),col(\"applicant_income_000s\").alias(\"income\"),\n",
    "                    col(\"loan_amount_000s\").alias(\"loan_amount\"),col(\"hoepa_status_name\").alias(\"hoepa\"),\n",
    "                    col(\"lien_status_name\").alias(\"lien\"),col(\"owner_occupancy_name\").alias(\"occupancy\"),\n",
    "                    col(\"property_type_name\").alias(\"property_type\"),col(\"hud_median_family_income\").alias(\"family_income\"))\n",
    "parDF_2.show(5)"
   ]
  },
  {
   "cell_type": "code",
   "execution_count": null,
   "metadata": {
    "id": "MVxnHGv0DaVA"
   },
   "outputs": [],
   "source": []
  },
  {
   "cell_type": "code",
   "execution_count": null,
   "metadata": {
    "id": "9-lWn2KsUTv1"
   },
   "outputs": [],
   "source": [
    "approvedDF = parDF_2.rdd.filter(lambda x: x[6]=='Loan originated' or x[6]=='Loan purchased by the institution')\n",
    "total_approved = approvedDF.toDF().count()"
   ]
  },
  {
   "cell_type": "code",
   "execution_count": null,
   "metadata": {
    "id": "eUJDghMUWMQE"
   },
   "outputs": [],
   "source": [
    "rejectedDF_2 = parDF_2.rdd.filter(lambda x: x[6]!='Loan originated' and x[6]!='File closed for incompleteness' and \n",
    "                              x[6]!='Application withdrawn by applicant' and x[6]!='Loan purchased by the institution')\n",
    "total_rejected_2 = rejectedDF_2.toDF().count()"
   ]
  },
  {
   "cell_type": "code",
   "execution_count": null,
   "metadata": {
    "colab": {
     "base_uri": "https://localhost:8080/"
    },
    "id": "SFxNRk7AVv4f",
    "outputId": "5e26e6bf-8d4c-461d-e40a-de485a6b7b73"
   },
   "outputs": [
    {
     "name": "stdout",
     "output_type": "stream",
     "text": [
      "+----------+--------------+--------------------+--------------------+----------+------------------+--------------------+----------------+--------------------+--------------------+------------+------+-----------+----------------+--------------------+--------------------+--------------------+-------------+\n",
      "|     finID|         state|               msamd|              county|population|          minority|              action|         purpose|              agency|         preapproval|   loan_type|income|loan_amount|           hoepa|                lien|           occupancy|       property_type|family_income|\n",
      "+----------+--------------+--------------------+--------------------+----------+------------------+--------------------+----------------+--------------------+--------------------+------------+------+-----------+----------------+--------------------+--------------------+--------------------+-------------+\n",
      "|26-2261031|          Ohio|Cleveland, Elyria...|       Lorain County|    3641.0| 6.449999809265138|Application appro...|Home improvement|Department of Hou...|      Not applicable|Conventional|  35.0|         74|Not a HOEPA loan|Secured by a firs...|Owner-occupied as...|One-to-four famil...|      62600.0|\n",
      "|0000013828|South Carolina|       Columbia - SC|    Lexington County|    4232.0|20.440000534057614|Application appro...|     Refinancing|National Credit U...|      Not applicable|Conventional|  56.0|         87|Not a HOEPA loan|Secured by a firs...|Owner-occupied as...|One-to-four famil...|      58000.0|\n",
      "|0000011412|     Wisconsin|Minneapolis, St. ...|    St. Croix County|    7569.0| 4.030000209808351|Application denie...|     Refinancing|Office of the Com...|      Not applicable|Conventional|  50.0|        116|Not a HOEPA loan|Secured by a firs...|Owner-occupied as...|One-to-four famil...|      83900.0|\n",
      "|0000852320|         Texas|Austin, Round Roc...|       Travis County|    5180.0|16.430000305175778|Application denie...|   Home purchase|Consumer Financia...|      Not applicable|Conventional| 450.0|        910|Not a HOEPA loan|Secured by a firs...|Owner-occupied as...|One-to-four famil...|      75400.0|\n",
      "|26-4599244|       Georgia|          Macon - GA|       Twiggs County|    3951.0| 51.18000030517578|Application denie...|     Refinancing|Department of Hou...|      Not applicable|Conventional| 100.0|        174|Not a HOEPA loan|Secured by a firs...|Owner-occupied as...|One-to-four famil...|      49800.0|\n",
      "|3027509990|         Texas|Fort Worth, Arlin...|      Tarrant County|    5141.0|14.880000114440918|Application denie...|   Home purchase|Department of Hou...|      Not applicable|Conventional| 145.0|        278|Not a HOEPA loan|Secured by a firs...|Owner-occupied as...|One-to-four famil...|      68700.0|\n",
      "|0000451965|         Texas|        El Paso - TX|      El Paso County|    7344.0| 59.29999923706055|Application denie...|     Refinancing|Consumer Financia...|      Not applicable|Conventional| 144.0|        166|Not a HOEPA loan|Secured by a firs...|Owner-occupied as...|One-to-four famil...|      43900.0|\n",
      "|26-2261031|      Kentucky|Cincinnati - OH, ...|     Campbell County|    5810.0| 3.910000085830689|Application appro...|     Refinancing|Department of Hou...|      Not applicable| FHA-insured|  68.0|        100|Not a HOEPA loan|Secured by a firs...|Owner-occupied as...|One-to-four famil...|      71100.0|\n",
      "|62-1532940|  Pennsylvania|      Lancaster - PA|    Lancaster County|    4340.0|  14.1899995803833|Application denie...|   Home purchase|Department of Hou...|Preapproval was n...|Conventional|  76.0|        158|Not a HOEPA loan|Secured by a firs...|Owner-occupied as...|One-to-four famil...|      67200.0|\n",
      "|7197000003|     Louisiana|Shreveport, Bossi...|        Caddo Parish|    5026.0| 52.86999893188477|Application denie...|     Refinancing|Department of Hou...|      Not applicable| FHA-insured|  54.0|         94|Not a HOEPA loan|Secured by a firs...|Owner-occupied as...|One-to-four famil...|      55600.0|\n",
      "|0000066492|     Wisconsin|Milwaukee, Waukes...|     Waukesha County|    4178.0| 8.880000114440918|Application appro...|     Refinancing|National Credit U...|      Not applicable|Conventional| 436.0|        160|Not a HOEPA loan|Secured by a firs...|Owner-occupied as...|One-to-four famil...|      70300.0|\n",
      "|45-3449011|          Ohio|       Columbus - OH|     Franklin County|    8056.0|  57.4000015258789|Application denie...|   Home purchase|Consumer Financia...|      Not applicable|Conventional|  50.0|        115|Not a HOEPA loan|Secured by a firs...|Owner-occupied as...|One-to-four famil...|      69400.0|\n",
      "|0000451965|    California|San Diego, Carlsb...|    San Diego County|    5535.0|              52.0|Application denie...|Home improvement|Consumer Financia...|      Not applicable|Conventional|  43.0|         20|Not a HOEPA loan|Not secured by a ...|Owner-occupied as...|One-to-four famil...|      72700.0|\n",
      "|0000761806|   Connecticut|Hartford, West Ha...|     Hartford County|    4454.0| 26.82999992370605|Application denie...|     Refinancing|Consumer Financia...|      Not applicable|Conventional|  51.0|        100|Not a HOEPA loan|Secured by a firs...|Owner-occupied as...|One-to-four famil...|      85700.0|\n",
      "|0000504713|     Wisconsin|La Crosse, Onalas...|    La Crosse County|    5566.0| 3.380000114440918|Application denie...|     Refinancing|Consumer Financia...|      Not applicable|Conventional|  31.0|        136|Not a HOEPA loan|Secured by a firs...|Owner-occupied as...|One-to-four famil...|      66300.0|\n",
      "|0000451965|      New York|New York, Jersey ...|        Bronx County|    4573.0| 96.33000183105469|Application denie...|   Home purchase|Consumer Financia...|      Not applicable|Conventional|  57.0|        435|Not a HOEPA loan|Secured by a firs...|Owner-occupied as...|One-to-four famil...|      68900.0|\n",
      "|0000675332|       Florida|Deltona, Daytona ...|      Volusia County|    4910.0| 9.270000457763672|Application denie...|Home improvement|Consumer Financia...|      Not applicable|Conventional| 105.0|         10|Not a HOEPA loan|Not secured by a ...|Not owner-occupie...|One-to-four famil...|      52600.0|\n",
      "|92-0164378|        Alaska|      Anchorage - AK|Anchorage Municip...|    6341.0| 37.34000015258789|Application appro...|   Home purchase|Department of Hou...|      Not applicable|Conventional|  70.0|        260|Not a HOEPA loan|Secured by a firs...|Owner-occupied as...|One-to-four famil...|      84900.0|\n",
      "|0000675332|       Florida|Fort Lauderdale, ...|      Broward County|    5863.0|             35.75|Application denie...|Home improvement|Consumer Financia...|      Not applicable|Conventional|  18.0|          1|Not a HOEPA loan|Not secured by a ...|Owner-occupied as...|One-to-four famil...|      61800.0|\n",
      "|04-2876549| Massachusetts|Cambridge, Newton...|    Middlesex County|    5360.0| 8.989999771118164|Application denie...|     Refinancing|Federal Deposit I...|      Not applicable| FHA-insured|  43.0|        138|Not a HOEPA loan|Secured by a firs...|Owner-occupied as...|One-to-four famil...|      93300.0|\n",
      "+----------+--------------+--------------------+--------------------+----------+------------------+--------------------+----------------+--------------------+--------------------+------------+------+-----------+----------------+--------------------+--------------------+--------------------+-------------+\n",
      "only showing top 20 rows\n",
      "\n"
     ]
    }
   ],
   "source": [
    "rejectedDF_2.toDF().show()"
   ]
  },
  {
   "cell_type": "code",
   "execution_count": null,
   "metadata": {
    "id": "Q4fLbSzUUZAF"
   },
   "outputs": [],
   "source": [
    "locCounts = approvedDF.map(lambda x: ((x[2],x[1],x[3]),1)) \\\n",
    "                    .reduceByKey(lambda x,y: x+y).map(lambda x: ([x[0][0],x[0][1],x[0][2]],round((x[1]/total_approved)*100,2))) \\\n",
    "                    .toDF(['location', 'percentage of approval']) \\\n",
    "                    .orderBy(['percentage of approval'], ascending = False)"
   ]
  },
  {
   "cell_type": "code",
   "execution_count": null,
   "metadata": {
    "colab": {
     "base_uri": "https://localhost:8080/"
    },
    "id": "l0yL2y-eXz1T",
    "outputId": "f69b030c-1d2f-425b-99fe-c15634b6c5fc"
   },
   "outputs": [
    {
     "name": "stdout",
     "output_type": "stream",
     "text": [
      "+--------------------+----------------------+\n",
      "|            location|percentage of approval|\n",
      "+--------------------+----------------------+\n",
      "|[Phoenix, Mesa, S...|                  2.64|\n",
      "|[Los Angeles, Lon...|                  2.56|\n",
      "|[Chicago, Napervi...|                  2.07|\n",
      "|[Houston, The Woo...|                   1.8|\n",
      "|[San Diego, Carls...|                  1.64|\n",
      "|[Anaheim, Santa A...|                  1.56|\n",
      "|[Riverside, San B...|                  1.33|\n",
      "|[Las Vegas, Hende...|                  1.12|\n",
      "|[Riverside, San B...|                  1.03|\n",
      "|[San Jose, Sunnyv...|                  0.97|\n",
      "|[Fort Worth, Arli...|                  0.94|\n",
      "|[Dallas, Plano, I...|                  0.85|\n",
      "|[Sacramento, Rose...|                  0.84|\n",
      "|[Cambridge, Newto...|                  0.79|\n",
      "|[Warren, Troy, Fa...|                  0.78|\n",
      "|[Fort Lauderdale,...|                  0.69|\n",
      "|[Dallas, Plano, I...|                  0.68|\n",
      "|[Salt Lake City -...|                  0.68|\n",
      "|[Washington, Arli...|                  0.67|\n",
      "|[Miami, Miami Bea...|                  0.67|\n",
      "+--------------------+----------------------+\n",
      "only showing top 20 rows\n",
      "\n"
     ]
    }
   ],
   "source": [
    "locCounts.show()"
   ]
  },
  {
   "cell_type": "code",
   "execution_count": null,
   "metadata": {
    "colab": {
     "base_uri": "https://localhost:8080/"
    },
    "id": "ozANEyD5q24w",
    "outputId": "d583203c-a805-4dd8-9fb2-9475f33befd6"
   },
   "outputs": [
    {
     "name": "stdout",
     "output_type": "stream",
     "text": [
      "+--------------+----------------------+\n",
      "|         state|percentage of approval|\n",
      "+--------------+----------------------+\n",
      "|    California|                 14.19|\n",
      "|         Texas|                  9.23|\n",
      "|       Florida|                  6.12|\n",
      "|      Illinois|                  5.17|\n",
      "|          Ohio|                  4.15|\n",
      "|      Virginia|                  4.08|\n",
      "|      Michigan|                  3.95|\n",
      "|       Arizona|                  3.84|\n",
      "|North Carolina|                  3.81|\n",
      "| Massachusetts|                  3.22|\n",
      "|      Colorado|                  3.15|\n",
      "|      Maryland|                  2.71|\n",
      "|    New Jersey|                  2.54|\n",
      "|      New York|                  2.17|\n",
      "|South Carolina|                  2.05|\n",
      "|  Pennsylvania|                  2.04|\n",
      "|     Wisconsin|                  1.84|\n",
      "|        Oregon|                  1.82|\n",
      "|       Georgia|                   1.7|\n",
      "|          Utah|                   1.7|\n",
      "+--------------+----------------------+\n",
      "only showing top 20 rows\n",
      "\n"
     ]
    }
   ],
   "source": [
    "stateCounts = approvedDF.map(lambda x: (x[1],1)) \\\n",
    "                    .reduceByKey(lambda x,y: x+y).map(lambda x: (x[0],round((x[1]/total_approved)*100,2))) \\\n",
    "                    .toDF(['state', 'percentage of approval']) \\\n",
    "                    .orderBy(['percentage of approval'], ascending = False)\n",
    "stateCounts.show()"
   ]
  },
  {
   "cell_type": "code",
   "execution_count": null,
   "metadata": {
    "colab": {
     "base_uri": "https://localhost:8080/"
    },
    "id": "2YpmwG48RymQ",
    "outputId": "d0a09d2e-cf5c-4a97-f76f-aaba84ebf52a"
   },
   "outputs": [
    {
     "name": "stdout",
     "output_type": "stream",
     "text": [
      "+--------------------+----------------------+\n",
      "|              county|percentage of approval|\n",
      "+--------------------+----------------------+\n",
      "|     Maricopa County|                  2.64|\n",
      "|  Los Angeles County|                  2.56|\n",
      "|       Orange County|                  2.23|\n",
      "|         Cook County|                  2.07|\n",
      "|       Harris County|                  1.82|\n",
      "|    San Diego County|                  1.64|\n",
      "|   Montgomery County|                  1.56|\n",
      "|        Clark County|                  1.37|\n",
      "|    Riverside County|                  1.33|\n",
      "|    Jefferson County|                  1.25|\n",
      "|    Middlesex County|                  1.05|\n",
      "|San Bernardino Co...|                  1.03|\n",
      "|  Santa Clara County|                  0.97|\n",
      "|      Tarrant County|                  0.94|\n",
      "|   Washington County|                  0.89|\n",
      "|       Dallas County|                  0.86|\n",
      "|         Lake County|                  0.84|\n",
      "|   Sacramento County|                  0.84|\n",
      "|      Oakland County|                  0.78|\n",
      "|     Franklin County|                  0.76|\n",
      "+--------------------+----------------------+\n",
      "only showing top 20 rows\n",
      "\n"
     ]
    }
   ],
   "source": [
    "countyCounts = approvedDF.map(lambda x: (x[3],1)) \\\n",
    "                    .reduceByKey(lambda x,y: x+y).map(lambda x: (x[0],round((x[1]/total_approved)*100,2))) \\\n",
    "                    .toDF(['county', 'percentage of approval']) \\\n",
    "                    .orderBy(['percentage of approval'], ascending = False)\n",
    "countyCounts.show()"
   ]
  },
  {
   "cell_type": "code",
   "execution_count": null,
   "metadata": {
    "colab": {
     "base_uri": "https://localhost:8080/"
    },
    "id": "4ghgPBrDX5bP",
    "outputId": "e01e03d1-39d2-4c09-993b-9239215e3b13"
   },
   "outputs": [
    {
     "name": "stdout",
     "output_type": "stream",
     "text": [
      "+--------------------+----------------------+\n",
      "|               msamd|percentage of approval|\n",
      "+--------------------+----------------------+\n",
      "|Chicago, Napervil...|                  3.24|\n",
      "|Houston, The Wood...|                  3.12|\n",
      "|Phoenix, Mesa, Sc...|                  2.88|\n",
      "|Washington, Arlin...|                  2.81|\n",
      "|Los Angeles, Long...|                  2.56|\n",
      "|Dallas, Plano, Ir...|                  2.38|\n",
      "|Riverside, San Be...|                  2.37|\n",
      "|Denver, Aurora, L...|                  2.13|\n",
      "|New York, Jersey ...|                  2.09|\n",
      "|San Diego, Carlsb...|                  1.64|\n",
      "|Anaheim, Santa An...|                  1.56|\n",
      "|Warren, Troy, Far...|                  1.51|\n",
      "|Sacramento, Rosev...|                  1.36|\n",
      "|Portland, Vancouv...|                   1.3|\n",
      "|Charlotte, Concor...|                  1.28|\n",
      "|Baltimore, Columb...|                  1.21|\n",
      "|Cambridge, Newton...|                  1.19|\n",
      "|Fort Worth, Arlin...|                  1.16|\n",
      "|Las Vegas, Hender...|                  1.12|\n",
      "|Cincinnati - OH, ...|                  1.06|\n",
      "+--------------------+----------------------+\n",
      "only showing top 20 rows\n",
      "\n"
     ]
    }
   ],
   "source": [
    "msamdCounts = approvedDF.map(lambda x: (x[2],1)) \\\n",
    "                    .reduceByKey(lambda x,y: x+y).map(lambda x: (x[0],round((x[1]/total_approved)*100,2))) \\\n",
    "                    .toDF(['msamd', 'percentage of approval']) \\\n",
    "                    .orderBy(['percentage of approval'], ascending = False)\n",
    "msamdCounts.show()"
   ]
  },
  {
   "cell_type": "code",
   "execution_count": null,
   "metadata": {
    "id": "fN5b9kJoY2UC"
   },
   "outputs": [],
   "source": [
    "#check population and minority populations\n",
    "minorityCounts = approvedDF.map(lambda x: (int(float(x[5])),1)) \\\n",
    "                    .reduceByKey(lambda x,y: x+y).map(lambda x: (x[0],round((x[1]/total_approved)*100,2)))  \\\n",
    "                    .toDF(['minority', 'Approval %']) \\\n",
    "                    .orderBy(['Approval %'], ascending = False)"
   ]
  },
  {
   "cell_type": "code",
   "execution_count": null,
   "metadata": {
    "colab": {
     "base_uri": "https://localhost:8080/"
    },
    "id": "39oyXsyKat-h",
    "outputId": "fef3ad29-8f1a-4efe-de13-25814cd48c00"
   },
   "outputs": [
    {
     "name": "stdout",
     "output_type": "stream",
     "text": [
      "+--------+----------+\n",
      "|minority|Approval %|\n",
      "+--------+----------+\n",
      "|       8|      2.75|\n",
      "|       6|       2.7|\n",
      "|       9|      2.68|\n",
      "|      12|      2.61|\n",
      "|       5|      2.61|\n",
      "|      11|      2.59|\n",
      "|       7|      2.58|\n",
      "|       4|      2.56|\n",
      "|      13|      2.48|\n",
      "|      14|      2.42|\n",
      "|      10|      2.38|\n",
      "|      16|       2.3|\n",
      "|      15|      2.27|\n",
      "|      17|      2.26|\n",
      "|       3|      2.14|\n",
      "|      18|      2.08|\n",
      "|      19|      2.01|\n",
      "|      20|      1.96|\n",
      "|      21|      1.84|\n",
      "|      25|      1.73|\n",
      "+--------+----------+\n",
      "only showing top 20 rows\n",
      "\n"
     ]
    }
   ],
   "source": [
    "minorityCounts.show() #to make it better, group every 10% of minority together when u plot <<----<"
   ]
  },
  {
   "cell_type": "markdown",
   "metadata": {
    "id": "Npo5dDFmelYV"
   },
   "source": [
    "### **Purpose**"
   ]
  },
  {
   "cell_type": "code",
   "execution_count": null,
   "metadata": {
    "id": "JahYz6DCawiT"
   },
   "outputs": [],
   "source": [
    "purposeCounts = approvedDF.map(lambda x: (x[7],1)) \\\n",
    "                    .reduceByKey(lambda x,y: x+y).map(lambda x: (x[0],round((x[1]/total_approved)*100,2))) \\\n",
    "                    .toDF(['purpose', 'percentage of approval']) \\\n",
    "                    .orderBy(['percentage of approval'], ascending = False)"
   ]
  },
  {
   "cell_type": "code",
   "execution_count": null,
   "metadata": {
    "colab": {
     "base_uri": "https://localhost:8080/"
    },
    "id": "y3Y0Qq9Lg8UC",
    "outputId": "8da8f02e-a089-4d13-d196-17a8330a1410"
   },
   "outputs": [
    {
     "name": "stdout",
     "output_type": "stream",
     "text": [
      "+----------------+----------------------+\n",
      "|         purpose|percentage of approval|\n",
      "+----------------+----------------------+\n",
      "|   Home purchase|                 57.53|\n",
      "|     Refinancing|                 36.72|\n",
      "|Home improvement|                  5.75|\n",
      "+----------------+----------------------+\n",
      "\n"
     ]
    }
   ],
   "source": [
    "purposeCounts.show()"
   ]
  },
  {
   "cell_type": "markdown",
   "metadata": {
    "id": "6txTABzyi7Ry"
   },
   "source": [
    "### **Agency**"
   ]
  },
  {
   "cell_type": "code",
   "execution_count": null,
   "metadata": {
    "colab": {
     "base_uri": "https://localhost:8080/"
    },
    "id": "JvG92WuchHHM",
    "outputId": "41840096-03aa-4365-e37a-003e24b4662d"
   },
   "outputs": [
    {
     "name": "stdout",
     "output_type": "stream",
     "text": [
      "+--------------------+----------------------+\n",
      "|              agency|percentage of approval|\n",
      "+--------------------+----------------------+\n",
      "|Department of Hou...|                  40.3|\n",
      "|Consumer Financia...|                 35.87|\n",
      "|Federal Deposit I...|                  8.65|\n",
      "|National Credit U...|                  7.26|\n",
      "|Office of the Com...|                  4.92|\n",
      "|Federal Reserve S...|                  3.01|\n",
      "+--------------------+----------------------+\n",
      "\n"
     ]
    }
   ],
   "source": [
    "agencyCounts = approvedDF.map(lambda x: (x[8],1)) \\\n",
    "                    .reduceByKey(lambda x,y: x+y).map(lambda x: (x[0],round((x[1]/total_approved)*100,2))) \\\n",
    "                    .toDF(['agency', 'percentage of approval']) \\\n",
    "                    .orderBy(['percentage of approval'], ascending = False)\n",
    "agencyCounts.show()"
   ]
  },
  {
   "cell_type": "code",
   "execution_count": null,
   "metadata": {
    "colab": {
     "base_uri": "https://localhost:8080/"
    },
    "id": "mnsS4Xrhjbk5",
    "outputId": "8383fbc6-12d1-41ce-f40a-fc2e35e6dff7"
   },
   "outputs": [
    {
     "name": "stdout",
     "output_type": "stream",
     "text": [
      "+--------------------+-----------------------+\n",
      "|              agency|percentage of Rejection|\n",
      "+--------------------+-----------------------+\n",
      "|Department of Hou...|                  40.86|\n",
      "|Consumer Financia...|                  39.49|\n",
      "|National Credit U...|                   7.72|\n",
      "|Federal Deposit I...|                   5.99|\n",
      "|Office of the Com...|                   3.87|\n",
      "|Federal Reserve S...|                   2.07|\n",
      "+--------------------+-----------------------+\n",
      "\n"
     ]
    }
   ],
   "source": [
    "#check percentage of rejection for each agency?\n",
    "agencyCounts_rej = rejectedDF_2.map(lambda x: (x[8],1)) \\\n",
    "                    .reduceByKey(lambda x,y: x+y).map(lambda x: (x[0],round((x[1]/total_rejected_2)*100,2))) \\\n",
    "                    .toDF(['agency', 'percentage of Rejection']) \\\n",
    "                    .orderBy(['percentage of Rejection'], ascending = False)\n",
    "agencyCounts_rej.show()"
   ]
  },
  {
   "cell_type": "markdown",
   "metadata": {
    "id": "t1tMEv5geim9"
   },
   "source": [
    "### **Prepproval Request**"
   ]
  },
  {
   "cell_type": "code",
   "execution_count": null,
   "metadata": {
    "colab": {
     "base_uri": "https://localhost:8080/"
    },
    "id": "MESp5-fkN2Lt",
    "outputId": "387e18b1-ba2f-422d-ec5f-939377100dff"
   },
   "outputs": [
    {
     "name": "stdout",
     "output_type": "stream",
     "text": [
      "+--------------------+----------------------+\n",
      "|   Pre-approval name|percentage of approval|\n",
      "+--------------------+----------------------+\n",
      "|      Not applicable|                 82.62|\n",
      "|Preapproval was n...|                 14.12|\n",
      "|Preapproval was r...|                  3.27|\n",
      "+--------------------+----------------------+\n",
      "\n"
     ]
    }
   ],
   "source": [
    "preappCounts = approvedDF.map(lambda x: (x[9],1)) \\\n",
    "                    .reduceByKey(lambda x,y: x+y).map(lambda x: (x[0],round((x[1]/total_approved)*100,2))) \\\n",
    "                    .toDF(['Pre-approval name', 'percentage of approval']) \\\n",
    "                    .orderBy(['percentage of approval'], ascending = False)\n",
    "preappCounts.show()"
   ]
  },
  {
   "cell_type": "code",
   "execution_count": null,
   "metadata": {
    "colab": {
     "base_uri": "https://localhost:8080/"
    },
    "id": "ZVo3cN_afufB",
    "outputId": "bc911e95-189f-40e2-e2e2-d53647e37b22"
   },
   "outputs": [
    {
     "name": "stdout",
     "output_type": "stream",
     "text": [
      "+--------------------+-----------------------+\n",
      "|   Pre-approval name|percentage of Rejection|\n",
      "+--------------------+-----------------------+\n",
      "|      Not applicable|                  90.07|\n",
      "|Preapproval was n...|                   8.13|\n",
      "|Preapproval was r...|                   1.79|\n",
      "+--------------------+-----------------------+\n",
      "\n"
     ]
    }
   ],
   "source": [
    "preappCounts_rej = rejectedDF_2.map(lambda x: (x[9],1)) \\\n",
    "                    .reduceByKey(lambda x,y: x+y).map(lambda x: (x[0],round((x[1]/total_rejected_2)*100,2))) \\\n",
    "                    .toDF(['Pre-approval name', 'percentage of Rejection']) \\\n",
    "                    .orderBy(['percentage of Rejection'], ascending = False)\n",
    "preappCounts_rej.show()"
   ]
  },
  {
   "cell_type": "markdown",
   "metadata": {
    "id": "DiY7kge7sSxu"
   },
   "source": [
    "### **Loan Type**"
   ]
  },
  {
   "cell_type": "code",
   "execution_count": null,
   "metadata": {
    "colab": {
     "base_uri": "https://localhost:8080/"
    },
    "id": "sKRwFljlsYVd",
    "outputId": "52279834-647e-4577-8abf-43e4ee904cd0"
   },
   "outputs": [
    {
     "name": "stdout",
     "output_type": "stream",
     "text": [
      "+------------------+----------------------+\n",
      "|         Loan Type|percentage of approval|\n",
      "+------------------+----------------------+\n",
      "|      Conventional|                 76.15|\n",
      "|       FHA-insured|                 14.37|\n",
      "|     VA-guaranteed|                  7.58|\n",
      "|FSA/RHS-guaranteed|                  1.91|\n",
      "+------------------+----------------------+\n",
      "\n"
     ]
    }
   ],
   "source": [
    "typeCounts = approvedDF.map(lambda x: (x[10],1)) \\\n",
    "                    .reduceByKey(lambda x,y: x+y).map(lambda x: (x[0],round((x[1]/total_approved)*100,2))) \\\n",
    "                    .toDF(['Loan Type', 'percentage of approval']) \\\n",
    "                    .orderBy(['percentage of approval'], ascending = False)\n",
    "typeCounts.show()"
   ]
  },
  {
   "cell_type": "code",
   "execution_count": null,
   "metadata": {
    "colab": {
     "base_uri": "https://localhost:8080/"
    },
    "id": "IFiKzjs4u9LX",
    "outputId": "1067987c-a68d-46e7-de33-46536b0a5905"
   },
   "outputs": [
    {
     "name": "stdout",
     "output_type": "stream",
     "text": [
      "+------------------+-----------------------+\n",
      "|         Loan Type|percentage of Rejection|\n",
      "+------------------+-----------------------+\n",
      "|      Conventional|                  80.41|\n",
      "|       FHA-insured|                  12.38|\n",
      "|     VA-guaranteed|                   6.12|\n",
      "|FSA/RHS-guaranteed|                   1.09|\n",
      "+------------------+-----------------------+\n",
      "\n"
     ]
    }
   ],
   "source": [
    "typeCounts_rej = rejectedDF_2.map(lambda x: (x[10],1)) \\\n",
    "                    .reduceByKey(lambda x,y: x+y).map(lambda x: (x[0],round((x[1]/total_rejected_2)*100,2))) \\\n",
    "                    .toDF(['Loan Type', 'percentage of Rejection']) \\\n",
    "                    .orderBy(['percentage of Rejection'], ascending = False)\n",
    "typeCounts_rej.show()"
   ]
  },
  {
   "cell_type": "markdown",
   "metadata": {
    "id": "Fz8-O-NvW4KN"
   },
   "source": [
    "### **Loan Amount & Income Relations**"
   ]
  },
  {
   "cell_type": "code",
   "execution_count": null,
   "metadata": {
    "colab": {
     "base_uri": "https://localhost:8080/"
    },
    "id": "LQ79-0DFXFjm",
    "outputId": "ffd21452-aef3-4427-c58b-ca5b9abfd0cc"
   },
   "outputs": [
    {
     "name": "stdout",
     "output_type": "stream",
     "text": [
      "Average Approved Loan amount is  222.42677302340542\n"
     ]
    }
   ],
   "source": [
    "#average approved loan \n",
    "avgApproved_l = approvedDF.toDF().withColumn(\"loan_amount\", col(\"loan_amount\").cast(\"float\"))\n",
    "avgApproved_l = avgApproved_l.groupBy().avg('loan_amount')\n",
    "print(\"Average Approved Loan amount is \", avgApproved_l.collect()[0][0])"
   ]
  },
  {
   "cell_type": "code",
   "execution_count": null,
   "metadata": {
    "colab": {
     "base_uri": "https://localhost:8080/"
    },
    "id": "slWqxbjmiMTv",
    "outputId": "44335dc1-6cd6-430a-df1e-ac773b07ca3b"
   },
   "outputs": [
    {
     "name": "stdout",
     "output_type": "stream",
     "text": [
      "Average Rejected Loan amount is  182.3154467535072\n"
     ]
    }
   ],
   "source": [
    "#average rejected loan \n",
    "avgRejected_l = rejectedDF_2.toDF().withColumn(\"loan_amount\", col(\"loan_amount\").cast(\"float\"))\n",
    "avgRejected_l = avgRejected_l.groupBy().avg('loan_amount')\n",
    "print(\"Average Rejected Loan amount is \", avgRejected_l.collect()[0][0])"
   ]
  },
  {
   "cell_type": "code",
   "execution_count": null,
   "metadata": {
    "colab": {
     "base_uri": "https://localhost:8080/"
    },
    "id": "A7fSXQ01m0JK",
    "outputId": "c5886400-21b1-49c0-9535-75900283e811"
   },
   "outputs": [
    {
     "name": "stdout",
     "output_type": "stream",
     "text": [
      "Average Approved applicant's income is  110.94555421714901\n"
     ]
    }
   ],
   "source": [
    "#average approved income \n",
    "avgApproved_i = approvedDF.toDF().withColumn(\"income\", col(\"income\").cast(\"float\"))\n",
    "avgApproved_i  = avgApproved_i.groupBy().avg('income')\n",
    "print(\"Average Approved applicant's income is \", avgApproved_i.collect()[0][0])"
   ]
  },
  {
   "cell_type": "code",
   "execution_count": null,
   "metadata": {
    "colab": {
     "base_uri": "https://localhost:8080/"
    },
    "id": "jS2MvAD4nDWN",
    "outputId": "68e3a8ec-35b8-42d5-b1dc-a32d34e2f018"
   },
   "outputs": [
    {
     "name": "stdout",
     "output_type": "stream",
     "text": [
      "Average Rejected applicant's income is  91.77987976554688\n"
     ]
    }
   ],
   "source": [
    "#average rejected income \n",
    "avgRejected_i = rejectedDF_2.toDF().withColumn(\"income\", col(\"income\").cast(\"float\"))\n",
    "avgRejected_i = avgRejected_i.groupBy().avg('income')\n",
    "print(\"Average Rejected applicant's income is \", avgRejected_i.collect()[0][0])"
   ]
  },
  {
   "cell_type": "code",
   "execution_count": null,
   "metadata": {
    "colab": {
     "base_uri": "https://localhost:8080/"
    },
    "id": "KX3Yp67NVcjH",
    "outputId": "57c268c3-d6ba-4162-e2bf-381c04d71d28"
   },
   "outputs": [
    {
     "name": "stdout",
     "output_type": "stream",
     "text": [
      "Avergae accepted income to loan perentage is  49.87958630568025\n"
     ]
    }
   ],
   "source": [
    "avg = (avgApproved_i.collect()[0][0]/avgApproved_l.collect()[0][0])*100\n",
    "print(\"Avergae accepted income to loan perentage is \", avg)"
   ]
  },
  {
   "cell_type": "code",
   "execution_count": null,
   "metadata": {
    "colab": {
     "base_uri": "https://localhost:8080/"
    },
    "id": "4a0E1JjMRfrZ",
    "outputId": "5a2b13b5-aec6-456b-dd52-921758ec242f"
   },
   "outputs": [
    {
     "name": "stdout",
     "output_type": "stream",
     "text": [
      "Avergae rejected income to loan perentage is  50.34125270232009\n"
     ]
    }
   ],
   "source": [
    "avg = (avgRejected_i.collect()[0][0]/avgRejected_l.collect()[0][0])*100\n",
    "print(\"Avergae rejected income to loan perentage is \", avg)"
   ]
  },
  {
   "cell_type": "code",
   "execution_count": null,
   "metadata": {
    "colab": {
     "base_uri": "https://localhost:8080/"
    },
    "id": "DHWadN0BZxHy",
    "outputId": "697e0aa6-9c62-4e27-beee-69566a05f9ea"
   },
   "outputs": [
    {
     "name": "stdout",
     "output_type": "stream",
     "text": [
      "+--------------------+-----------------+\n",
      "|               msamd|      avg(income)|\n",
      "+--------------------+-----------------+\n",
      "|Kansas City - MO, KS| 95.6395411751975|\n",
      "|         Madera - CA|71.94827586206897|\n",
      "+--------------------+-----------------+\n",
      "only showing top 2 rows\n",
      "\n"
     ]
    }
   ],
   "source": [
    "#msamd vs hud_median_family_income\n",
    "from pyspark.sql.functions import col, avg\n",
    "avgApproved_in = approvedDF.toDF().withColumn(\"income\", col(\"income\").cast(\"float\"))\n",
    "df_avg_income = avgApproved_in.groupBy(\"msamd\").agg(avg(col(\"income\")))\n",
    "df_avg_income.show(2)"
   ]
  },
  {
   "cell_type": "code",
   "execution_count": null,
   "metadata": {
    "colab": {
     "base_uri": "https://localhost:8080/"
    },
    "id": "Fh5aXZ6kPUyM",
    "outputId": "b2c372c9-6240-45ba-9421-67a0cb67df73"
   },
   "outputs": [
    {
     "name": "stdout",
     "output_type": "stream",
     "text": [
      "+--------------------+------------------+\n",
      "|               msamd|avg(family_income)|\n",
      "+--------------------+------------------+\n",
      "|Kansas City - MO, KS|           73300.0|\n",
      "|         Madera - CA|           52000.0|\n",
      "+--------------------+------------------+\n",
      "only showing top 2 rows\n",
      "\n"
     ]
    }
   ],
   "source": [
    "avgApproved_in = approvedDF.toDF().withColumn(\"family_income\", col(\"family_income\").cast(\"float\"))\n",
    "df_avg_family_income = avgApproved_in.groupBy(\"msamd\").agg(avg(col(\"family_income\")))\n",
    "df_avg_family_income.show(2)"
   ]
  },
  {
   "cell_type": "code",
   "execution_count": null,
   "metadata": {
    "colab": {
     "base_uri": "https://localhost:8080/"
    },
    "id": "DwXmhXWNPbcf",
    "outputId": "752095f3-132d-4334-e6c0-17b0437f3e30"
   },
   "outputs": [
    {
     "name": "stdout",
     "output_type": "stream",
     "text": [
      "+--------------------+------------------+\n",
      "|               msamd|  avg(loan_amount)|\n",
      "+--------------------+------------------+\n",
      "|Kansas City - MO, KS|182.04480034628287|\n",
      "|         Madera - CA| 177.4655172413793|\n",
      "+--------------------+------------------+\n",
      "only showing top 2 rows\n",
      "\n"
     ]
    }
   ],
   "source": [
    "avgApproved_in = approvedDF.toDF().withColumn(\"loan_amount\", col(\"loan_amount\").cast(\"float\"))\n",
    "df_avg_loan= avgApproved_in.groupBy(\"msamd\").agg(avg(col(\"loan_amount\")))\n",
    "df_avg_loan.show(2)"
   ]
  },
  {
   "cell_type": "markdown",
   "metadata": {
    "id": "CQg9jXkVvwuS"
   },
   "source": [
    "### **Hoepa / lien status & Owner Occupancy**"
   ]
  },
  {
   "cell_type": "code",
   "execution_count": null,
   "metadata": {
    "colab": {
     "base_uri": "https://localhost:8080/"
    },
    "id": "KryqUunMxIoy",
    "outputId": "bb8741ce-89a6-428f-d4d4-5f4d9e93c090"
   },
   "outputs": [
    {
     "name": "stdout",
     "output_type": "stream",
     "text": [
      "+----------------+----------------------+\n",
      "|    Hoepa Status|percentage of approval|\n",
      "+----------------+----------------------+\n",
      "|Not a HOEPA loan|                 99.98|\n",
      "|      HOEPA loan|                  0.02|\n",
      "+----------------+----------------------+\n",
      "\n"
     ]
    }
   ],
   "source": [
    "hoepaCounts = approvedDF.map(lambda x: (x[13],1)) \\\n",
    "                    .reduceByKey(lambda x,y: x+y).map(lambda x: (x[0],round((x[1]/total_approved)*100,2))) \\\n",
    "                    .toDF(['Hoepa Status', 'percentage of approval']) \\\n",
    "                    .orderBy(['percentage of approval'], ascending = False)\n",
    "hoepaCounts.show()"
   ]
  },
  {
   "cell_type": "code",
   "execution_count": null,
   "metadata": {
    "colab": {
     "base_uri": "https://localhost:8080/"
    },
    "id": "qkvCHSHG8DGl",
    "outputId": "95d7d939-5586-4d66-fb93-26a1f263795a"
   },
   "outputs": [
    {
     "name": "stdout",
     "output_type": "stream",
     "text": [
      "+----------------+-----------------------+\n",
      "|    Hoepa Status|percentage of Rejection|\n",
      "+----------------+-----------------------+\n",
      "|Not a HOEPA loan|                  100.0|\n",
      "+----------------+-----------------------+\n",
      "\n"
     ]
    }
   ],
   "source": [
    "hoepaCounts_rej = rejectedDF_2.map(lambda x: (x[13],1)) \\\n",
    "                    .reduceByKey(lambda x,y: x+y).map(lambda x: (x[0],round((x[1]/total_rejected_2)*100,2))) \\\n",
    "                    .toDF(['Hoepa Status', 'percentage of Rejection']) \\\n",
    "                    .orderBy(['percentage of Rejection'], ascending = False)\n",
    "hoepaCounts_rej.show()"
   ]
  },
  {
   "cell_type": "code",
   "execution_count": null,
   "metadata": {
    "colab": {
     "base_uri": "https://localhost:8080/"
    },
    "id": "kyV_3I0C_9mC",
    "outputId": "cd0be953-fda9-4c1c-d4b3-4ca5c94beea7"
   },
   "outputs": [
    {
     "name": "stdout",
     "output_type": "stream",
     "text": [
      "+----------------+----------------+----------------------+\n",
      "|         Purpose|    Hoepa Status|percentage of approval|\n",
      "+----------------+----------------+----------------------+\n",
      "|   Home purchase|Not a HOEPA loan|                 57.53|\n",
      "|     Refinancing|Not a HOEPA loan|                 36.72|\n",
      "|Home improvement|Not a HOEPA loan|                  5.74|\n",
      "|   Home purchase|      HOEPA loan|                  0.01|\n",
      "|     Refinancing|      HOEPA loan|                  0.01|\n",
      "|Home improvement|      HOEPA loan|                   0.0|\n",
      "+----------------+----------------+----------------------+\n",
      "\n"
     ]
    }
   ],
   "source": [
    "#purpose vs hoepa status\n",
    "hpCounts = approvedDF.map(lambda x: ((x[7],x[13]),1)) \\\n",
    "                    .reduceByKey(lambda x,y: x+y).map(lambda x: (x[0][0],x[0][1],round((x[1]/total_approved)*100,2))) \\\n",
    "                    .toDF(['Purpose', 'Hoepa Status', 'percentage of approval']) \\\n",
    "                    .orderBy(['percentage of approval'], ascending = False)\n",
    "hpCounts.show()"
   ]
  },
  {
   "cell_type": "code",
   "execution_count": null,
   "metadata": {
    "colab": {
     "base_uri": "https://localhost:8080/"
    },
    "id": "KndfX9uOB-XI",
    "outputId": "a9b0305d-9fd2-40ba-cd26-a5c52d318b84"
   },
   "outputs": [
    {
     "name": "stdout",
     "output_type": "stream",
     "text": [
      "+--------------------+----------------+----------------------+\n",
      "|     Owner Occupancy|    Hoepa Status|percentage of approval|\n",
      "+--------------------+----------------+----------------------+\n",
      "|Owner-occupied as...|Not a HOEPA loan|                 89.82|\n",
      "|Not owner-occupie...|Not a HOEPA loan|                 10.12|\n",
      "|      Not applicable|Not a HOEPA loan|                  0.05|\n",
      "|Owner-occupied as...|      HOEPA loan|                  0.01|\n",
      "|Not owner-occupie...|      HOEPA loan|                   0.0|\n",
      "+--------------------+----------------+----------------------+\n",
      "\n"
     ]
    }
   ],
   "source": [
    "#hoepa vs owner occupancy\n",
    "hownCounts = approvedDF.map(lambda x: ((x[15],x[13]),1)) \\\n",
    "                    .reduceByKey(lambda x,y: x+y).map(lambda x: (x[0][0],x[0][1],round((x[1]/total_approved)*100,2))) \\\n",
    "                    .toDF(['Owner Occupancy', 'Hoepa Status', 'percentage of approval']) \\\n",
    "                    .orderBy(['percentage of approval'], ascending = False)\n",
    "hownCounts.show()"
   ]
  },
  {
   "cell_type": "code",
   "execution_count": null,
   "metadata": {
    "colab": {
     "base_uri": "https://localhost:8080/"
    },
    "id": "rVV6v8jQypRp",
    "outputId": "11b20d77-e3af-48fa-e66f-843b873ffb5c"
   },
   "outputs": [
    {
     "name": "stdout",
     "output_type": "stream",
     "text": [
      "+--------------------+----------------------+\n",
      "|         Lien Status|percentage of approval|\n",
      "+--------------------+----------------------+\n",
      "|Secured by a firs...|                 82.45|\n",
      "|      Not applicable|                 12.43|\n",
      "|Secured by a subo...|                  2.79|\n",
      "|Not secured by a ...|                  2.33|\n",
      "+--------------------+----------------------+\n",
      "\n"
     ]
    }
   ],
   "source": [
    "lienCounts = approvedDF.map(lambda x: (x[14],1)) \\\n",
    "                    .reduceByKey(lambda x,y: x+y).map(lambda x: (x[0],round((x[1]/total_approved)*100,2))) \\\n",
    "                    .toDF(['Lien Status', 'percentage of approval']) \\\n",
    "                    .orderBy(['percentage of approval'], ascending = False)\n",
    "lienCounts.show()\n",
    "#Not applicable is for purchased loans\n",
    "#secured by first lien is when the lender is the only lender and you can not sell the houss unless you pay the debt\n",
    "#secured by second lien is when this is a second lender and the first debt has a priority "
   ]
  },
  {
   "cell_type": "code",
   "execution_count": null,
   "metadata": {
    "colab": {
     "base_uri": "https://localhost:8080/"
    },
    "id": "LgnfyM2iy88c",
    "outputId": "e491d2d9-fac6-4805-a0f1-30b4c0cea465"
   },
   "outputs": [
    {
     "name": "stdout",
     "output_type": "stream",
     "text": [
      "+--------------------+----------------------+\n",
      "|     Owner Occupancy|percentage of approval|\n",
      "+--------------------+----------------------+\n",
      "|Owner-occupied as...|                 89.84|\n",
      "|Not owner-occupie...|                 10.12|\n",
      "|      Not applicable|                  0.05|\n",
      "+--------------------+----------------------+\n",
      "\n"
     ]
    }
   ],
   "source": [
    "occupancyCounts = approvedDF.map(lambda x: (x[15],1)) \\\n",
    "                    .reduceByKey(lambda x,y: x+y).map(lambda x: (x[0],round((x[1]/total_approved)*100,2))) \\\n",
    "                    .toDF(['Owner Occupancy', 'percentage of approval']) \\\n",
    "                    .orderBy(['percentage of approval'], ascending = False)\n",
    "occupancyCounts.show()"
   ]
  },
  {
   "cell_type": "markdown",
   "metadata": {
    "id": "oTxlO5YyE6mf"
   },
   "source": [
    "### **Property Type**"
   ]
  },
  {
   "cell_type": "code",
   "execution_count": null,
   "metadata": {
    "colab": {
     "base_uri": "https://localhost:8080/"
    },
    "id": "-iDxNbdsE-b_",
    "outputId": "e4efdd06-b262-4811-f805-d7619f2bf3f8"
   },
   "outputs": [
    {
     "name": "stdout",
     "output_type": "stream",
     "text": [
      "+--------------------------+----------------------+\n",
      "|Property Type for the Loan|percentage of approval|\n",
      "+--------------------------+----------------------+\n",
      "|      One-to-four famil...|                 98.74|\n",
      "|      Manufactured housing|                  1.26|\n",
      "+--------------------------+----------------------+\n",
      "\n"
     ]
    }
   ],
   "source": [
    "propertyCounts = approvedDF.map(lambda x: (x[16],1)) \\\n",
    "                    .reduceByKey(lambda x,y: x+y).map(lambda x: (x[0],round((x[1]/total_approved)*100,2))) \\\n",
    "                    .toDF(['Property Type for the Loan', 'percentage of approval']) \\\n",
    "                    .orderBy(['percentage of approval'], ascending = False)\n",
    "propertyCounts.show()"
   ]
  },
  {
   "cell_type": "markdown",
   "metadata": {
    "id": "AK5YRkgxmCSl"
   },
   "source": [
    "# **Visualization**"
   ]
  },
  {
   "cell_type": "code",
   "execution_count": null,
   "metadata": {
    "id": "jKbfRTtFmKfG"
   },
   "outputs": [],
   "source": [
    "import matplotlib.pyplot as plt\n",
    "def value_counts_bar(col, title, key):\n",
    "    plt.figure(figsize=(6, len(col[key])/2))\n",
    "    plt.barh(col[key], col[title])\n",
    "    plt.title(title, fontsize=15)\n",
    "    plt.xticks(rotation='vertical', fontsize=10)\n",
    "    plt.show()"
   ]
  },
  {
   "cell_type": "code",
   "execution_count": null,
   "metadata": {
    "id": "vi4evDMbTcAN"
   },
   "outputs": [],
   "source": [
    "def value_counts_bar_twokeys(col, title, key1 , key2):\n",
    "    plt.figure(figsize=(6, len(col[key1])/2))\n",
    "    plt.barh(col[key1] + ' | ' + col[key2], col[title])\n",
    "    plt.title(title, fontsize=15)\n",
    "    plt.xticks(rotation='vertical', fontsize=10)\n",
    "    plt.show()"
   ]
  },
  {
   "cell_type": "code",
   "execution_count": null,
   "metadata": {
    "colab": {
     "base_uri": "https://localhost:8080/"
    },
    "id": "06KyxjT6jlDH",
    "outputId": "1d5f8a0a-6e92-4f73-be1e-6f1296030a28"
   },
   "outputs": [
    {
     "data": {
      "text/plain": [
       "DataFrame[Lien Status: string, percentage of approval: double]"
      ]
     },
     "execution_count": 144,
     "metadata": {
      "tags": []
     },
     "output_type": "execute_result"
    }
   ],
   "source": [
    "lienCounts"
   ]
  },
  {
   "cell_type": "code",
   "execution_count": null,
   "metadata": {
    "colab": {
     "base_uri": "https://localhost:8080/",
     "height": 177
    },
    "id": "yNZWQ2KEnAK8",
    "outputId": "1bf80a36-db38-422b-9f73-59302185ed26"
   },
   "outputs": [
    {
     "data": {
      "image/png": "[encoded data removed]",
      "text/plain": [
       "<Figure size 432x144 with 1 Axes>"
      ]
     },
     "metadata": {
      "tags": []
     },
     "output_type": "display_data"
    }
   ],
   "source": [
    "value_counts_bar(lienCounts.toPandas(), 'percentage of approval','Lien Status')"
   ]
  },
  {
   "cell_type": "code",
   "execution_count": null,
   "metadata": {
    "colab": {
     "base_uri": "https://localhost:8080/",
     "height": 204
    },
    "id": "Hn6UWqVvmbvh",
    "outputId": "0a2135ef-0876-46d3-8315-ed5aadfed171"
   },
   "outputs": [
    {
     "data": {
      "image/png": "[encoded data removed]",
      "text/plain": [
       "<Figure size 432x180 with 1 Axes>"
      ]
     },
     "metadata": {
      "tags": []
     },
     "output_type": "display_data"
    }
   ],
   "source": [
    "value_counts_bar_twokeys(hownCounts.toPandas(),\"percentage of approval\",\"Owner Occupancy\",\"Hoepa Status\")"
   ]
  },
  {
   "cell_type": "code",
   "execution_count": null,
   "metadata": {
    "colab": {
     "base_uri": "https://localhost:8080/",
     "height": 129
    },
    "id": "yF-A8gpil_In",
    "outputId": "45383780-2efd-470f-d5a0-7e0349d71cd2"
   },
   "outputs": [
    {
     "data": {
      "image/png": "[encoded data removed]",
      "text/plain": [
       "<Figure size 432x72 with 1 Axes>"
      ]
     },
     "metadata": {
      "tags": []
     },
     "output_type": "display_data"
    }
   ],
   "source": [
    "value_counts_bar(propertyCounts.toPandas(), 'percentage of approval','Property Type for the Loan')"
   ]
  },
  {
   "cell_type": "code",
   "execution_count": null,
   "metadata": {
    "colab": {
     "base_uri": "https://localhost:8080/",
     "height": 177
    },
    "id": "pNZf1vf8lru0",
    "outputId": "75336d0a-a0eb-4f5a-9d8f-5699ddb8f0e2"
   },
   "outputs": [
    {
     "data": {
      "image/png": "[encoded data removed]",
      "text/plain": [
       "<Figure size 432x144 with 1 Axes>"
      ]
     },
     "metadata": {
      "tags": []
     },
     "output_type": "display_data"
    }
   ],
   "source": [
    "value_counts_bar(typeCounts.toPandas(), 'percentage of approval','Loan Type')"
   ]
  },
  {
   "cell_type": "code",
   "execution_count": null,
   "metadata": {
    "colab": {
     "base_uri": "https://localhost:8080/",
     "height": 150
    },
    "id": "qpsM1vzviPmM",
    "outputId": "a75776d9-93c2-4e64-fe4f-2ae3d171485c"
   },
   "outputs": [
    {
     "data": {
      "image/png": "[encoded data removed]",
      "text/plain": [
       "<Figure size 432x108 with 1 Axes>"
      ]
     },
     "metadata": {
      "tags": []
     },
     "output_type": "display_data"
    }
   ],
   "source": [
    "value_counts_bar(ethTotalCounts.toPandas(), 'percentage of Ethnicity','Applicant''s Ethnicity')"
   ]
  },
  {
   "cell_type": "code",
   "execution_count": null,
   "metadata": {
    "colab": {
     "base_uri": "https://localhost:8080/",
     "height": 150
    },
    "id": "MC_8Twm6i-uF",
    "outputId": "cb63a42d-46ce-4df0-979f-9a87fa30c914"
   },
   "outputs": [
    {
     "data": {
      "image/png": "[encoded data removed]",
      "text/plain": [
       "<Figure size 432x108 with 1 Axes>"
      ]
     },
     "metadata": {
      "tags": []
     },
     "output_type": "display_data"
    }
   ],
   "source": [
    "value_counts_bar(preappCounts.toPandas(),\"percentage of approval\",\"Pre-approval name\")"
   ]
  },
  {
   "cell_type": "code",
   "execution_count": null,
   "metadata": {
    "colab": {
     "base_uri": "https://localhost:8080/",
     "height": 150
    },
    "id": "0x-wDVL0kHH0",
    "outputId": "1c08126e-8328-49ce-c1f1-20568604d2cc"
   },
   "outputs": [
    {
     "data": {
      "image/png": "[encoded data removed]",
      "text/plain": [
       "<Figure size 432x108 with 1 Axes>"
      ]
     },
     "metadata": {
      "tags": []
     },
     "output_type": "display_data"
    }
   ],
   "source": [
    "value_counts_bar(ethCounts.toPandas(), 'percentage of approval','Applicant''s Ethnicity')"
   ]
  },
  {
   "cell_type": "code",
   "execution_count": null,
   "metadata": {
    "colab": {
     "base_uri": "https://localhost:8080/",
     "height": 232
    },
    "id": "qvF-B-szkjST",
    "outputId": "99a2a42f-c69f-40b8-c9f0-7e6431389c84"
   },
   "outputs": [
    {
     "data": {
      "image/png": "[encoded data removed]",
      "text/plain": [
       "<Figure size 432x216 with 1 Axes>"
      ]
     },
     "metadata": {
      "tags": []
     },
     "output_type": "display_data"
    }
   ],
   "source": [
    "value_counts_bar(raceCounts.toPandas(), 'percentage of approval','Applicant''s Race')"
   ]
  },
  {
   "cell_type": "code",
   "execution_count": null,
   "metadata": {
    "colab": {
     "base_uri": "https://localhost:8080/",
     "height": 150
    },
    "id": "VgQNd8A9lLWk",
    "outputId": "00879dd3-d719-45da-efd5-d93747c1cbff"
   },
   "outputs": [
    {
     "data": {
      "image/png": "[encoded data removed]",
      "text/plain": [
       "<Figure size 432x108 with 1 Axes>"
      ]
     },
     "metadata": {
      "tags": []
     },
     "output_type": "display_data"
    }
   ],
   "source": [
    "value_counts_bar(genderCounts.toPandas(),\"percentage of approval\",\"Applicants Gender\")"
   ]
  },
  {
   "cell_type": "code",
   "execution_count": null,
   "metadata": {
    "colab": {
     "base_uri": "https://localhost:8080/",
     "height": 542
    },
    "id": "trrnd9RtuAMy",
    "outputId": "7d9c87c3-1ef0-4854-f7c9-9deba9139e64"
   },
   "outputs": [
    {
     "data": {
      "text/html": [
       "<html>\n",
       "<head><meta charset=\"utf-8\" /></head>\n",
       "<body>\n",
       "    <div>\n",
       "            <script src=\"https://cdnjs.cloudflare.com/ajax/libs/mathjax/2.7.5/MathJax.js?config=TeX-AMS-MML_SVG\"></script><script type=\"text/javascript\">if (window.MathJax) {MathJax.Hub.Config({SVG: {font: \"STIX-Web\"}});}</script>\n",
       "                <script type=\"text/javascript\">window.PlotlyConfig = {MathJaxConfig: 'local'};</script>\n",
       "        <script src=\"https://cdn.plot.ly/plotly-latest.min.js\"></script>    \n",
       "            <div id=\"95e8c900-e048-4dd3-b1a6-71c19bd21883\" class=\"plotly-graph-div\" style=\"height:525px; width:100%;\"></div>\n",
       "            <script type=\"text/javascript\">\n",
       "                \n",
       "                    window.PLOTLYENV=window.PLOTLYENV || {};\n",
       "                    \n",
       "                if (document.getElementById(\"95e8c900-e048-4dd3-b1a6-71c19bd21883\")) {\n",
       "                    Plotly.newPlot(\n",
       "                        '95e8c900-e048-4dd3-b1a6-71c19bd21883',\n",
       "                        [{\"cells\": {\"font\": {\"size\": 14}, \"values\": [[\"Approval\", \"Denial\"], [222.42677302340542, 182.3154467535072], [110.94555421714901, 91.77987976554688]]}, \"header\": {\"font\": {\"size\": 20}, \"values\": [\"Loan State\", \"Average Loan Amount\", \"Average Income\"]}, \"type\": \"table\"}],\n",
       "                        {\"template\": {\"data\": {\"bar\": [{\"error_x\": {\"color\": \"#2a3f5f\"}, \"error_y\": {\"color\": \"#2a3f5f\"}, \"marker\": {\"line\": {\"color\": \"#E5ECF6\", \"width\": 0.5}}, \"type\": \"bar\"}], \"barpolar\": [{\"marker\": {\"line\": {\"color\": \"#E5ECF6\", \"width\": 0.5}}, \"type\": \"barpolar\"}], \"carpet\": [{\"aaxis\": {\"endlinecolor\": \"#2a3f5f\", \"gridcolor\": \"white\", \"linecolor\": \"white\", \"minorgridcolor\": \"white\", \"startlinecolor\": \"#2a3f5f\"}, \"baxis\": {\"endlinecolor\": \"#2a3f5f\", \"gridcolor\": \"white\", \"linecolor\": \"white\", \"minorgridcolor\": \"white\", \"startlinecolor\": \"#2a3f5f\"}, \"type\": \"carpet\"}], \"choropleth\": [{\"colorbar\": {\"outlinewidth\": 0, \"ticks\": \"\"}, \"type\": \"choropleth\"}], \"contour\": [{\"colorbar\": {\"outlinewidth\": 0, \"ticks\": \"\"}, \"colorscale\": [[0.0, \"#0d0887\"], [0.1111111111111111, \"#46039f\"], [0.2222222222222222, \"#7201a8\"], [0.3333333333333333, \"#9c179e\"], [0.4444444444444444, \"#bd3786\"], [0.5555555555555556, \"#d8576b\"], [0.6666666666666666, \"#ed7953\"], [0.7777777777777778, \"#fb9f3a\"], [0.8888888888888888, \"#fdca26\"], [1.0, \"#f0f921\"]], \"type\": \"contour\"}], \"contourcarpet\": [{\"colorbar\": {\"outlinewidth\": 0, \"ticks\": \"\"}, \"type\": \"contourcarpet\"}], \"heatmap\": [{\"colorbar\": {\"outlinewidth\": 0, \"ticks\": \"\"}, \"colorscale\": [[0.0, \"#0d0887\"], [0.1111111111111111, \"#46039f\"], [0.2222222222222222, \"#7201a8\"], [0.3333333333333333, \"#9c179e\"], [0.4444444444444444, \"#bd3786\"], [0.5555555555555556, \"#d8576b\"], [0.6666666666666666, \"#ed7953\"], [0.7777777777777778, \"#fb9f3a\"], [0.8888888888888888, \"#fdca26\"], [1.0, \"#f0f921\"]], \"type\": \"heatmap\"}], \"heatmapgl\": [{\"colorbar\": {\"outlinewidth\": 0, \"ticks\": \"\"}, \"colorscale\": [[0.0, \"#0d0887\"], [0.1111111111111111, \"#46039f\"], [0.2222222222222222, \"#7201a8\"], [0.3333333333333333, \"#9c179e\"], [0.4444444444444444, \"#bd3786\"], [0.5555555555555556, \"#d8576b\"], [0.6666666666666666, \"#ed7953\"], [0.7777777777777778, \"#fb9f3a\"], [0.8888888888888888, \"#fdca26\"], [1.0, \"#f0f921\"]], \"type\": \"heatmapgl\"}], \"histogram\": [{\"marker\": {\"colorbar\": {\"outlinewidth\": 0, \"ticks\": \"\"}}, \"type\": \"histogram\"}], \"histogram2d\": [{\"colorbar\": {\"outlinewidth\": 0, \"ticks\": \"\"}, \"colorscale\": [[0.0, \"#0d0887\"], [0.1111111111111111, \"#46039f\"], [0.2222222222222222, \"#7201a8\"], [0.3333333333333333, \"#9c179e\"], [0.4444444444444444, \"#bd3786\"], [0.5555555555555556, \"#d8576b\"], [0.6666666666666666, \"#ed7953\"], [0.7777777777777778, \"#fb9f3a\"], [0.8888888888888888, \"#fdca26\"], [1.0, \"#f0f921\"]], \"type\": \"histogram2d\"}], \"histogram2dcontour\": [{\"colorbar\": {\"outlinewidth\": 0, \"ticks\": \"\"}, \"colorscale\": [[0.0, \"#0d0887\"], [0.1111111111111111, \"#46039f\"], [0.2222222222222222, \"#7201a8\"], [0.3333333333333333, \"#9c179e\"], [0.4444444444444444, \"#bd3786\"], [0.5555555555555556, \"#d8576b\"], [0.6666666666666666, \"#ed7953\"], [0.7777777777777778, \"#fb9f3a\"], [0.8888888888888888, \"#fdca26\"], [1.0, \"#f0f921\"]], \"type\": \"histogram2dcontour\"}], \"mesh3d\": [{\"colorbar\": {\"outlinewidth\": 0, \"ticks\": \"\"}, \"type\": \"mesh3d\"}], \"parcoords\": [{\"line\": {\"colorbar\": {\"outlinewidth\": 0, \"ticks\": \"\"}}, \"type\": \"parcoords\"}], \"pie\": [{\"automargin\": true, \"type\": \"pie\"}], \"scatter\": [{\"marker\": {\"colorbar\": {\"outlinewidth\": 0, \"ticks\": \"\"}}, \"type\": \"scatter\"}], \"scatter3d\": [{\"line\": {\"colorbar\": {\"outlinewidth\": 0, \"ticks\": \"\"}}, \"marker\": {\"colorbar\": {\"outlinewidth\": 0, \"ticks\": \"\"}}, \"type\": \"scatter3d\"}], \"scattercarpet\": [{\"marker\": {\"colorbar\": {\"outlinewidth\": 0, \"ticks\": \"\"}}, \"type\": \"scattercarpet\"}], \"scattergeo\": [{\"marker\": {\"colorbar\": {\"outlinewidth\": 0, \"ticks\": \"\"}}, \"type\": \"scattergeo\"}], \"scattergl\": [{\"marker\": {\"colorbar\": {\"outlinewidth\": 0, \"ticks\": \"\"}}, \"type\": \"scattergl\"}], \"scattermapbox\": [{\"marker\": {\"colorbar\": {\"outlinewidth\": 0, \"ticks\": \"\"}}, \"type\": \"scattermapbox\"}], \"scatterpolar\": [{\"marker\": {\"colorbar\": {\"outlinewidth\": 0, \"ticks\": \"\"}}, \"type\": \"scatterpolar\"}], \"scatterpolargl\": [{\"marker\": {\"colorbar\": {\"outlinewidth\": 0, \"ticks\": \"\"}}, \"type\": \"scatterpolargl\"}], \"scatterternary\": [{\"marker\": {\"colorbar\": {\"outlinewidth\": 0, \"ticks\": \"\"}}, \"type\": \"scatterternary\"}], \"surface\": [{\"colorbar\": {\"outlinewidth\": 0, \"ticks\": \"\"}, \"colorscale\": [[0.0, \"#0d0887\"], [0.1111111111111111, \"#46039f\"], [0.2222222222222222, \"#7201a8\"], [0.3333333333333333, \"#9c179e\"], [0.4444444444444444, \"#bd3786\"], [0.5555555555555556, \"#d8576b\"], [0.6666666666666666, \"#ed7953\"], [0.7777777777777778, \"#fb9f3a\"], [0.8888888888888888, \"#fdca26\"], [1.0, \"#f0f921\"]], \"type\": \"surface\"}], \"table\": [{\"cells\": {\"fill\": {\"color\": \"#EBF0F8\"}, \"line\": {\"color\": \"white\"}}, \"header\": {\"fill\": {\"color\": \"#C8D4E3\"}, \"line\": {\"color\": \"white\"}}, \"type\": \"table\"}]}, \"layout\": {\"annotationdefaults\": {\"arrowcolor\": \"#2a3f5f\", \"arrowhead\": 0, \"arrowwidth\": 1}, \"coloraxis\": {\"colorbar\": {\"outlinewidth\": 0, \"ticks\": \"\"}}, \"colorscale\": {\"diverging\": [[0, \"#8e0152\"], [0.1, \"#c51b7d\"], [0.2, \"#de77ae\"], [0.3, \"#f1b6da\"], [0.4, \"#fde0ef\"], [0.5, \"#f7f7f7\"], [0.6, \"#e6f5d0\"], [0.7, \"#b8e186\"], [0.8, \"#7fbc41\"], [0.9, \"#4d9221\"], [1, \"#276419\"]], \"sequential\": [[0.0, \"#0d0887\"], [0.1111111111111111, \"#46039f\"], [0.2222222222222222, \"#7201a8\"], [0.3333333333333333, \"#9c179e\"], [0.4444444444444444, \"#bd3786\"], [0.5555555555555556, \"#d8576b\"], [0.6666666666666666, \"#ed7953\"], [0.7777777777777778, \"#fb9f3a\"], [0.8888888888888888, \"#fdca26\"], [1.0, \"#f0f921\"]], \"sequentialminus\": [[0.0, \"#0d0887\"], [0.1111111111111111, \"#46039f\"], [0.2222222222222222, \"#7201a8\"], [0.3333333333333333, \"#9c179e\"], [0.4444444444444444, \"#bd3786\"], [0.5555555555555556, \"#d8576b\"], [0.6666666666666666, \"#ed7953\"], [0.7777777777777778, \"#fb9f3a\"], [0.8888888888888888, \"#fdca26\"], [1.0, \"#f0f921\"]]}, \"colorway\": [\"#636efa\", \"#EF553B\", \"#00cc96\", \"#ab63fa\", \"#FFA15A\", \"#19d3f3\", \"#FF6692\", \"#B6E880\", \"#FF97FF\", \"#FECB52\"], \"font\": {\"color\": \"#2a3f5f\"}, \"geo\": {\"bgcolor\": \"white\", \"lakecolor\": \"white\", \"landcolor\": \"#E5ECF6\", \"showlakes\": true, \"showland\": true, \"subunitcolor\": \"white\"}, \"hoverlabel\": {\"align\": \"left\"}, \"hovermode\": \"closest\", \"mapbox\": {\"style\": \"light\"}, \"paper_bgcolor\": \"white\", \"plot_bgcolor\": \"#E5ECF6\", \"polar\": {\"angularaxis\": {\"gridcolor\": \"white\", \"linecolor\": \"white\", \"ticks\": \"\"}, \"bgcolor\": \"#E5ECF6\", \"radialaxis\": {\"gridcolor\": \"white\", \"linecolor\": \"white\", \"ticks\": \"\"}}, \"scene\": {\"xaxis\": {\"backgroundcolor\": \"#E5ECF6\", \"gridcolor\": \"white\", \"gridwidth\": 2, \"linecolor\": \"white\", \"showbackground\": true, \"ticks\": \"\", \"zerolinecolor\": \"white\"}, \"yaxis\": {\"backgroundcolor\": \"#E5ECF6\", \"gridcolor\": \"white\", \"gridwidth\": 2, \"linecolor\": \"white\", \"showbackground\": true, \"ticks\": \"\", \"zerolinecolor\": \"white\"}, \"zaxis\": {\"backgroundcolor\": \"#E5ECF6\", \"gridcolor\": \"white\", \"gridwidth\": 2, \"linecolor\": \"white\", \"showbackground\": true, \"ticks\": \"\", \"zerolinecolor\": \"white\"}}, \"shapedefaults\": {\"line\": {\"color\": \"#2a3f5f\"}}, \"ternary\": {\"aaxis\": {\"gridcolor\": \"white\", \"linecolor\": \"white\", \"ticks\": \"\"}, \"baxis\": {\"gridcolor\": \"white\", \"linecolor\": \"white\", \"ticks\": \"\"}, \"bgcolor\": \"#E5ECF6\", \"caxis\": {\"gridcolor\": \"white\", \"linecolor\": \"white\", \"ticks\": \"\"}}, \"title\": {\"x\": 0.05}, \"xaxis\": {\"automargin\": true, \"gridcolor\": \"white\", \"linecolor\": \"white\", \"ticks\": \"\", \"title\": {\"standoff\": 15}, \"zerolinecolor\": \"white\", \"zerolinewidth\": 2}, \"yaxis\": {\"automargin\": true, \"gridcolor\": \"white\", \"linecolor\": \"white\", \"ticks\": \"\", \"title\": {\"standoff\": 15}, \"zerolinecolor\": \"white\", \"zerolinewidth\": 2}}}},\n",
       "                        {\"responsive\": true}\n",
       "                    ).then(function(){\n",
       "                            \n",
       "var gd = document.getElementById('95e8c900-e048-4dd3-b1a6-71c19bd21883');\n",
       "var x = new MutationObserver(function (mutations, observer) {{\n",
       "        var display = window.getComputedStyle(gd).display;\n",
       "        if (!display || display === 'none') {{\n",
       "            console.log([gd, 'removed!']);\n",
       "            Plotly.purge(gd);\n",
       "            observer.disconnect();\n",
       "        }}\n",
       "}});\n",
       "\n",
       "// Listen for the removal of the full notebook cells\n",
       "var notebookContainer = gd.closest('#notebook-container');\n",
       "if (notebookContainer) {{\n",
       "    x.observe(notebookContainer, {childList: true});\n",
       "}}\n",
       "\n",
       "// Listen for the clearing of the current output cell\n",
       "var outputEl = gd.closest('.output');\n",
       "if (outputEl) {{\n",
       "    x.observe(outputEl, {childList: true});\n",
       "}}\n",
       "\n",
       "                        })\n",
       "                };\n",
       "                \n",
       "            </script>\n",
       "        </div>\n",
       "</body>\n",
       "</html>"
      ]
     },
     "metadata": {
      "tags": []
     },
     "output_type": "display_data"
    }
   ],
   "source": [
    "import plotly.graph_objects as go\n",
    "fig = go.Figure(data=[go.Table(header=dict(values=[\"Loan State\", 'Average Loan Amount', 'Average Income'],font=dict(size=20)),\n",
    "                 cells=dict(values=[[\"Approval\", \"Denial\"],\n",
    "                                    [avgApproved_l.collect()[0][0], avgRejected_l.collect()[0][0]],\n",
    "                                    [avgApproved_i.collect()[0][0], avgRejected_i.collect()[0][0]]],font=dict(size=14)))])\n",
    "fig.show()"
   ]
  },
  {
   "cell_type": "code",
   "execution_count": null,
   "metadata": {
    "colab": {
     "base_uri": "https://localhost:8080/"
    },
    "id": "scXDvc0su5cN",
    "outputId": "16322981-f4fa-4760-cf91-9b24cc7a79d6"
   },
   "outputs": [
    {
     "data": {
      "text/plain": [
       "DataFrame[minority: bigint, Approval %: double]"
      ]
     },
     "execution_count": 159,
     "metadata": {
      "tags": []
     },
     "output_type": "execute_result"
    }
   ],
   "source": [
    "minorityCounts"
   ]
  },
  {
   "cell_type": "code",
   "execution_count": null,
   "metadata": {
    "colab": {
     "base_uri": "https://localhost:8080/",
     "height": 279
    },
    "id": "tayxtICeu6mv",
    "outputId": "5b95c8d4-50e9-4f57-990b-83b655a01420"
   },
   "outputs": [
    {
     "data": {
      "image/png": "[encoded data removed]",
      "text/plain": [
       "<Figure size 432x288 with 1 Axes>"
      ]
     },
     "metadata": {
      "needs_background": "light",
      "tags": []
     },
     "output_type": "display_data"
    }
   ],
   "source": [
    "minorityCounts.toPandas().plot(kind='scatter',x='minority',y='Approval %',color='red')\n",
    "plt.show()"
   ]
  },
  {
   "cell_type": "markdown",
   "metadata": {
    "id": "Le-GWMM-2BnA"
   },
   "source": [
    "# **Machine Learning Model**"
   ]
  },
  {
   "cell_type": "markdown",
   "metadata": {
    "id": "b_WhPFlhRsnD"
   },
   "source": [
    "## **Decision Trees**"
   ]
  },
  {
   "cell_type": "code",
   "execution_count": null,
   "metadata": {
    "id": "AB-AYGtF2Idv"
   },
   "outputs": [],
   "source": [
    "# Import Spark SQL and Spark ML libraries\n",
    "from pyspark.sql.types import *\n",
    "from pyspark.sql.functions import *\n",
    "\n",
    "from pyspark.ml import Pipeline\n",
    "from pyspark.ml.classification import LogisticRegression\n",
    "from pyspark.ml.feature import VectorAssembler\n",
    "from pyspark.ml.tuning import ParamGridBuilder, TrainValidationSplit, CrossValidator\n",
    "from pyspark.ml.evaluation import BinaryClassificationEvaluator\n",
    "from pyspark.ml.classification import DecisionTreeClassifier"
   ]
  },
  {
   "cell_type": "code",
   "execution_count": null,
   "metadata": {
    "id": "hy9k-nB5RzVh"
   },
   "outputs": [],
   "source": [
    "MaDF = rawData.select(col(\"agency_code\").cast(\"float\"),col(\"loan_type\").cast(\"float\"),col(\"property_type\").cast(\"float\"),col(\"loan_purpose\").cast(\"float\"),col(\"owner_occupancy\").cast(\"float\"),col(\"loan_amount_000s\").cast(\"float\"),col(\"preapproval\").cast(\"float\"),col(\"msamd\").cast(\"float\"),col(\"state_code\").cast(\"float\"),col(\"county_code\").cast(\"float\"),col(\"census_tract_number\").cast(\"float\"),col(\"applicant_ethnicity\").cast(\"float\"),col(\"co_applicant_ethnicity\").cast(\"float\"),col(\"applicant_race_1\").cast(\"float\"),col(\"co_applicant_race_1\").cast(\"float\"),col(\"applicant_sex\").cast(\"float\"),col(\"co_applicant_sex\").cast(\"float\"),col(\"applicant_income_000s\").cast(\"float\"),col(\"purchaser_type\").cast(\"float\"),col(\"hoepa_status\").cast(\"float\"),col(\"lien_status\").cast(\"float\"),col(\"population\").cast(\"float\"),col(\"minority_population\").cast(\"float\"),col(\"hud_median_family_income\").cast(\"float\"),col(\"tract_to_msamd_income\").cast(\"float\"),col(\"number_of_owner_occupied_units\").cast(\"float\"),col(\"number_of_1_to_4_family_units\").cast(\"float\"),col(\"application_date_indicator\").cast(\"float\"),col(\"action_taken\").cast(\"float\").alias(\"label\"),col(\"action_taken_name\"))"
   ]
  },
  {
   "cell_type": "code",
   "execution_count": null,
   "metadata": {
    "id": "Pc2cSa9W2Scv"
   },
   "outputs": [],
   "source": [
    "#MaDF.select('action_taken_name').distinct().collect()"
   ]
  },
  {
   "cell_type": "code",
   "execution_count": null,
   "metadata": {
    "id": "C-_lAPf5R4lS"
   },
   "outputs": [],
   "source": [
    "MaDF = MaDF.filter((MaDF[\"action_taken_name\"] != 'Application withdrawn by applicant') &(MaDF[\"action_taken_name\"] != 'File closed for incompleteness'))"
   ]
  },
  {
   "cell_type": "code",
   "execution_count": null,
   "metadata": {
    "colab": {
     "base_uri": "https://localhost:8080/"
    },
    "id": "9iNpuRnFR56Q",
    "outputId": "d3935a6c-51a8-4791-9d11-dcfeae45209d"
   },
   "outputs": [
    {
     "name": "stdout",
     "output_type": "stream",
     "text": [
      "+-----------+---------+-------------+------------+---------------+----------------+-----------+-------+----------+-----------+-------------------+-------------------+----------------------+----------------+-------------------+-------------+----------------+---------------------+--------------+------------+-----------+----------+-------------------+------------------------+---------------------+------------------------------+-----------------------------+--------------------------+-----+-----------------+\n",
      "|agency_code|loan_type|property_type|loan_purpose|owner_occupancy|loan_amount_000s|preapproval|  msamd|state_code|county_code|census_tract_number|applicant_ethnicity|co_applicant_ethnicity|applicant_race_1|co_applicant_race_1|applicant_sex|co_applicant_sex|applicant_income_000s|purchaser_type|hoepa_status|lien_status|population|minority_population|hud_median_family_income|tract_to_msamd_income|number_of_owner_occupied_units|number_of_1_to_4_family_units|application_date_indicator|label|action_taken_name|\n",
      "+-----------+---------+-------------+------------+---------------+----------------+-----------+-------+----------+-----------+-------------------+-------------------+----------------------+----------------+-------------------+-------------+----------------+---------------------+--------------+------------+-----------+----------+-------------------+------------------------+---------------------+------------------------------+-----------------------------+--------------------------+-----+-----------------+\n",
      "|        3.0|      1.0|          1.0|         1.0|            2.0|            81.0|        2.0|16060.0|      17.0|       77.0|              111.0|                2.0|                   2.0|             5.0|                5.0|          1.0|             2.0|                167.0|           1.0|         2.0|        1.0|    3177.0|              28.77|                 54000.0|                61.65|                         160.0|                        773.0|                       0.0|  1.0|  Loan originated|\n",
      "|        9.0|      1.0|          1.0|         3.0|            1.0|            58.0|        3.0|31420.0|      13.0|       21.0|             134.09|                2.0|                   5.0|             5.0|                8.0|          2.0|             5.0|                 15.0|           8.0|         2.0|        1.0|    4143.0|              33.48|                 49800.0|               148.05|                        1110.0|                       1352.0|                       0.0|  1.0|  Loan originated|\n",
      "|        9.0|      1.0|          1.0|         1.0|            2.0|           150.0|        1.0|13820.0|       1.0|       73.0|             127.03|                2.0|                   2.0|             5.0|                5.0|          1.0|             2.0|                258.0|           3.0|         2.0|        1.0|    5593.0|              17.61|                 61000.0|               286.64|                        1194.0|                       1293.0|                       0.0|  1.0|  Loan originated|\n",
      "+-----------+---------+-------------+------------+---------------+----------------+-----------+-------+----------+-----------+-------------------+-------------------+----------------------+----------------+-------------------+-------------+----------------+---------------------+--------------+------------+-----------+----------+-------------------+------------------------+---------------------+------------------------------+-----------------------------+--------------------------+-----+-----------------+\n",
      "only showing top 3 rows\n",
      "\n"
     ]
    }
   ],
   "source": [
    "MaDF.show(3)"
   ]
  },
  {
   "cell_type": "code",
   "execution_count": null,
   "metadata": {
    "colab": {
     "base_uri": "https://localhost:8080/"
    },
    "id": "PnQLaSqBR7dZ",
    "outputId": "4677b003-be59-4d40-9029-e9bebf8f0c90"
   },
   "outputs": [
    {
     "name": "stdout",
     "output_type": "stream",
     "text": [
      "+-----------+---------+-------------+------------+---------------+----------------+-----------+-------+----------+-----------+-------------------+-------------------+----------------------+----------------+-------------------+-------------+----------------+---------------------+--------------+------------+-----------+----------+-------------------+------------------------+---------------------+------------------------------+-----------------------------+--------------------------+-----+-----------------+\n",
      "|agency_code|loan_type|property_type|loan_purpose|owner_occupancy|loan_amount_000s|preapproval|  msamd|state_code|county_code|census_tract_number|applicant_ethnicity|co_applicant_ethnicity|applicant_race_1|co_applicant_race_1|applicant_sex|co_applicant_sex|applicant_income_000s|purchaser_type|hoepa_status|lien_status|population|minority_population|hud_median_family_income|tract_to_msamd_income|number_of_owner_occupied_units|number_of_1_to_4_family_units|application_date_indicator|label|action_taken_name|\n",
      "+-----------+---------+-------------+------------+---------------+----------------+-----------+-------+----------+-----------+-------------------+-------------------+----------------------+----------------+-------------------+-------------+----------------+---------------------+--------------+------------+-----------+----------+-------------------+------------------------+---------------------+------------------------------+-----------------------------+--------------------------+-----+-----------------+\n",
      "|        3.0|      1.0|          1.0|         1.0|            2.0|            81.0|        2.0|16060.0|      17.0|       77.0|              111.0|                2.0|                   2.0|             5.0|                5.0|          1.0|             2.0|                167.0|           1.0|         2.0|        1.0|    3177.0|              28.77|                 54000.0|                61.65|                         160.0|                        773.0|                       0.0|  1.0|  Loan originated|\n",
      "|        9.0|      1.0|          1.0|         3.0|            1.0|            58.0|        3.0|31420.0|      13.0|       21.0|             134.09|                2.0|                   5.0|             5.0|                8.0|          2.0|             5.0|                 15.0|           8.0|         2.0|        1.0|    4143.0|              33.48|                 49800.0|               148.05|                        1110.0|                       1352.0|                       0.0|  1.0|  Loan originated|\n",
      "|        9.0|      1.0|          1.0|         1.0|            2.0|           150.0|        1.0|13820.0|       1.0|       73.0|             127.03|                2.0|                   2.0|             5.0|                5.0|          1.0|             2.0|                258.0|           3.0|         2.0|        1.0|    5593.0|              17.61|                 61000.0|               286.64|                        1194.0|                       1293.0|                       0.0|  1.0|  Loan originated|\n",
      "+-----------+---------+-------------+------------+---------------+----------------+-----------+-------+----------+-----------+-------------------+-------------------+----------------------+----------------+-------------------+-------------+----------------+---------------------+--------------+------------+-----------+----------+-------------------+------------------------+---------------------+------------------------------+-----------------------------+--------------------------+-----+-----------------+\n",
      "only showing top 3 rows\n",
      "\n"
     ]
    }
   ],
   "source": [
    "MaDF = MaDF.withColumn('label',when((MaDF[\"label\"] == 6)|(MaDF[\"label\"] == 1),MaDF[\"label\"]).otherwise(0))\n",
    "MaDF = MaDF.withColumn('label',when((MaDF[\"label\"] != 6),MaDF[\"label\"]).otherwise(1))\n",
    "MaDF.show(3)"
   ]
  },
  {
   "cell_type": "code",
   "execution_count": null,
   "metadata": {
    "colab": {
     "base_uri": "https://localhost:8080/"
    },
    "id": "AJrKUh-3SCYI",
    "outputId": "7daa0eab-9a37-410f-bbd6-bfa058e90022"
   },
   "outputs": [
    {
     "name": "stdout",
     "output_type": "stream",
     "text": [
      "+-----------+---------+-------------+------------+---------------+----------------+-----------+-------+----------+-----------+-------------------+-------------------+----------------------+----------------+-------------------+-------------+----------------+---------------------+--------------+------------+-----------+----------+-------------------+------------------------+---------------------+------------------------------+-----------------------------+--------------------------+---------+--------------------+\n",
      "|agency_code|loan_type|property_type|loan_purpose|owner_occupancy|loan_amount_000s|preapproval|  msamd|state_code|county_code|census_tract_number|applicant_ethnicity|co_applicant_ethnicity|applicant_race_1|co_applicant_race_1|applicant_sex|co_applicant_sex|applicant_income_000s|purchaser_type|hoepa_status|lien_status|population|minority_population|hud_median_family_income|tract_to_msamd_income|number_of_owner_occupied_units|number_of_1_to_4_family_units|application_date_indicator|trueLabel|   action_taken_name|\n",
      "+-----------+---------+-------------+------------+---------------+----------------+-----------+-------+----------+-----------+-------------------+-------------------+----------------------+----------------+-------------------+-------------+----------------+---------------------+--------------+------------+-----------+----------+-------------------+------------------------+---------------------+------------------------------+-----------------------------+--------------------------+---------+--------------------+\n",
      "|        1.0|      1.0|          1.0|         1.0|            1.0|             3.0|        1.0|25540.0|       9.0|        3.0|             4808.0|                2.0|                   5.0|             5.0|                8.0|          1.0|             5.0|                 52.0|           9.0|         2.0|        2.0|    4425.0|               9.33|                 85700.0|               108.31|                        1558.0|                       1667.0|                       0.0|      1.0|     Loan originated|\n",
      "|        1.0|      1.0|          1.0|         1.0|            1.0|             3.0|        3.0|30700.0|      31.0|      109.0|                9.0|                3.0|                   5.0|             6.0|                8.0|          3.0|             5.0|                 28.0|           6.0|         2.0|        2.0|    3749.0|              21.29|                 67800.0|                70.78|                         622.0|                       1056.0|                       0.0|      1.0|     Loan originated|\n",
      "|        1.0|      1.0|          1.0|         1.0|            1.0|             4.0|        2.0|19460.0|       1.0|      103.0|              53.03|                2.0|                   2.0|             5.0|                5.0|          1.0|             2.0|                 74.0|           9.0|         2.0|        2.0|    3971.0|               11.0|                 53500.0|                 74.5|                        1054.0|                       1593.0|                       0.0|      1.0|     Loan originated|\n",
      "|        1.0|      1.0|          1.0|         1.0|            1.0|             5.0|        1.0|39740.0|      42.0|       11.0|              104.0|                2.0|                   5.0|             5.0|                8.0|          1.0|             5.0|                 39.0|           0.0|         2.0|        2.0|    8153.0|               6.32|                 66900.0|               103.86|                        2462.0|                       2948.0|                       0.0|      1.0|     Loan originated|\n",
      "|        1.0|      1.0|          1.0|         1.0|            1.0|             5.0|        2.0|39740.0|      42.0|       11.0|              128.0|                1.0|                   1.0|             5.0|                5.0|          1.0|             2.0|                 42.0|           0.0|         2.0|        2.0|    3911.0|              20.63|                 66900.0|                91.34|                        1346.0|                       1768.0|                       0.0|      1.0|     Loan originated|\n",
      "|        1.0|      1.0|          1.0|         1.0|            1.0|             5.0|        3.0|11700.0|      37.0|       21.0|              27.03|                2.0|                   5.0|             5.0|                8.0|          2.0|             5.0|                 55.0|           9.0|         2.0|        2.0|    5477.0|               5.26|                 56000.0|               125.55|                        2001.0|                       2542.0|                       0.0|      1.0|     Loan originated|\n",
      "|        1.0|      1.0|          1.0|         1.0|            1.0|             5.0|        3.0|47260.0|      51.0|      650.0|             101.03|                2.0|                   5.0|             3.0|                8.0|          1.0|             5.0|                 49.0|           0.0|         2.0|        2.0|    7108.0|              32.46|                 72200.0|               111.02|                        2215.0|                       2754.0|                       0.0|      0.0|Application denie...|\n",
      "|        1.0|      1.0|          1.0|         1.0|            1.0|             8.0|        3.0|40140.0|       6.0|       71.0|              34.04|                3.0|                   3.0|             6.0|                6.0|          1.0|             2.0|                 64.0|           0.0|         2.0|        2.0|    4946.0|              88.82|                 60700.0|                74.65|                         277.0|                        912.0|                       0.0|      0.0|Application denie...|\n",
      "|        1.0|      1.0|          1.0|         1.0|            1.0|             9.0|        3.0|33460.0|      27.0|      163.0|              709.1|                2.0|                   5.0|             5.0|                8.0|          1.0|             5.0|                 64.0|           9.0|         2.0|        2.0|    4856.0|              20.08|                 83900.0|                89.05|                        1722.0|                       1741.0|                       0.0|      1.0|     Loan originated|\n",
      "|        1.0|      1.0|          1.0|         1.0|            1.0|            11.0|        2.0|23104.0|      48.0|      439.0|             1236.0|                2.0|                   5.0|             5.0|                8.0|          1.0|             5.0|                 61.0|           0.0|         2.0|        2.0|    2598.0|              73.09|                 68700.0|                32.08|                         172.0|                        677.0|                       0.0|      0.0|Application denie...|\n",
      "|        1.0|      1.0|          1.0|         1.0|            1.0|            12.0|        1.0|25540.0|       9.0|       13.0|            5382.01|                2.0|                   2.0|             5.0|                5.0|          2.0|             1.0|                 96.0|           9.0|         2.0|        2.0|    5166.0|               4.78|                 85700.0|               124.09|                        1819.0|                       1952.0|                       0.0|      1.0|     Loan originated|\n",
      "|        1.0|      1.0|          1.0|         1.0|            1.0|            15.0|        3.0|19124.0|      48.0|      113.0|              207.0|                2.0|                   2.0|             5.0|                2.0|          2.0|             1.0|                 78.0|           0.0|         2.0|        2.0|    5022.0|              37.67|                 69100.0|               122.07|                        1556.0|                       1892.0|                       0.0|      1.0|     Loan originated|\n",
      "|        1.0|      1.0|          1.0|         1.0|            1.0|            16.0|        3.0|26380.0|      22.0|      109.0|                7.0|                2.0|                   5.0|             5.0|                8.0|          1.0|             5.0|                 67.0|           0.0|         2.0|        1.0|    6061.0|              62.71|                 56000.0|                 54.6|                        1257.0|                       2489.0|                       0.0|      1.0|     Loan originated|\n",
      "|        1.0|      1.0|          1.0|         1.0|            1.0|            18.0|        2.0|48620.0|      20.0|      173.0|             101.13|                2.0|                   2.0|             5.0|                5.0|          1.0|             1.0|                 64.0|           0.0|         2.0|        2.0|    3688.0|               22.7|                 65600.0|               126.03|                        1155.0|                       1267.0|                       0.0|      1.0|     Loan originated|\n",
      "|        1.0|      1.0|          1.0|         1.0|            1.0|            19.0|        3.0|38060.0|       4.0|       13.0|            1032.09|                2.0|                   5.0|             5.0|                8.0|          1.0|             5.0|                145.0|           0.0|         2.0|        2.0|    5353.0|              10.29|                 61900.0|               168.79|                        1775.0|                       1749.0|                       0.0|      1.0|     Loan originated|\n",
      "|        1.0|      1.0|          1.0|         1.0|            1.0|            20.0|        2.0|26420.0|      48.0|      339.0|            6943.01|                2.0|                   2.0|             5.0|                5.0|          1.0|             2.0|                158.0|           0.0|         2.0|        2.0|   12302.0|              11.01|                 68400.0|               150.53|                        3654.0|                       4793.0|                       0.0|      0.0|Application appro...|\n",
      "|        1.0|      1.0|          1.0|         1.0|            1.0|            20.0|        3.0|48620.0|      20.0|       15.0|             209.01|                2.0|                   2.0|             5.0|                5.0|          1.0|             2.0|                120.0|           0.0|         2.0|        1.0|    4144.0|               7.09|                 65600.0|               122.89|                        1315.0|                       1667.0|                       0.0|      0.0|Application denie...|\n",
      "|        1.0|      1.0|          1.0|         1.0|            1.0|            23.0|        2.0|11540.0|      55.0|       87.0|             126.01|                2.0|                   2.0|             5.0|                5.0|          1.0|             2.0|                 78.0|           0.0|         2.0|        2.0|    8333.0|               6.56|                 71200.0|               119.02|                        2410.0|                       2700.0|                       0.0|      1.0|     Loan originated|\n",
      "|        1.0|      1.0|          1.0|         1.0|            1.0|            23.0|        3.0|18020.0|      18.0|        5.0|              112.0|                2.0|                   5.0|             5.0|                8.0|          1.0|             5.0|                 50.0|           0.0|         2.0|        1.0|    5435.0|               3.31|                 66900.0|                92.14|                        1766.0|                       2212.0|                       0.0|      0.0|Application denie...|\n",
      "|        1.0|      1.0|          1.0|         1.0|            1.0|            24.0|        3.0|46220.0|       1.0|      125.0|              120.0|                2.0|                   5.0|             5.0|                8.0|          1.0|             5.0|                233.0|           0.0|         2.0|        1.0|    4096.0|              19.24|                 57200.0|                87.23|                         389.0|                       1325.0|                       0.0|      1.0|     Loan originated|\n",
      "+-----------+---------+-------------+------------+---------------+----------------+-----------+-------+----------+-----------+-------------------+-------------------+----------------------+----------------+-------------------+-------------+----------------+---------------------+--------------+------------+-----------+----------+-------------------+------------------------+---------------------+------------------------------+-----------------------------+--------------------------+---------+--------------------+\n",
      "only showing top 20 rows\n",
      "\n"
     ]
    }
   ],
   "source": [
    "#use one hot encoding on the categorical columns\n",
    "'''\n",
    "from pyspark.ml.feature import OneHotEncoderEstimator\n",
    "encoder = OneHotEncoderEstimator(inputCols=[\"agency_code\", \"loan_type\", \"property_type\",\"loan_purpose\",\n",
    "                                   \"owner_occupancy\",\"preapproval\",\"applicant_ethnicity\",\n",
    "                                   \"co_applicant_ethnicity\", \"applicant_race_1\",\"co_applicant_race_1\",\n",
    "                                   \"applicant_sex\", \"co_applicant_sex\", \"purchaser_type\",\"hoepa_status\",\n",
    "                                   \"lien_status\"],\n",
    "                        outputCols=[\"agency_code_vec\", \"loan_type_vec\", \"property_type_vec\",\"loan_purpose_vec\",\n",
    "                                    \"owner_occupancy_vec\",\"preapproval_vec\",\"applicant_ethnicity_vec\",\n",
    "                                    \"co_applicant_ethnicity_vec\", \"applicant_race_1_vec\",\"co_applicant_race_1_vec\",\n",
    "                                    \"applicant_sex_vec\",\"co_applicant_sex_vec\",\"purchaser_type_vec\",\"hoepa_status_vec\",\n",
    "                                    \"lien_status_vec\"])\n",
    "MaDF = encoder.fit(MaDF).transform(MaDF)\n",
    "'''\n",
    "# Split the data\n",
    "splits = MaDF.randomSplit([0.7, 0.3])\n",
    "train = splits[0]\n",
    "test = splits[1].withColumnRenamed(\"label\", \"trueLabel\")\n",
    "test.show()"
   ]
  },
  {
   "cell_type": "code",
   "execution_count": null,
   "metadata": {
    "id": "RQDGlZAsSEuR"
   },
   "outputs": [],
   "source": [
    "vectorAssembler = VectorAssembler(inputCols = [\"agency_code\",\"loan_type\", \"property_type\", \"loan_purpose\", \"owner_occupancy\",\"loan_amount_000s\",\"preapproval\",\"msamd\",\"state_code\",\"county_code\",\"census_tract_number\",\"applicant_ethnicity\",\"co_applicant_ethnicity\",\"applicant_race_1\",\"co_applicant_race_1\",\"applicant_sex\",\"co_applicant_sex\",\"applicant_income_000s\",\"purchaser_type\",\"hoepa_status\",\"lien_status\",\"population\",\"minority_population\",\"hud_median_family_income\",\"tract_to_msamd_income\",\"number_of_owner_occupied_units\",\"number_of_1_to_4_family_units\",\"application_date_indicator\"],outputCol=\"features\")\n",
    "#Model1 - Decision Tree \n",
    "decision = DecisionTreeClassifier(labelCol=\"label\", featuresCol= \"features\")\n",
    "pipeline = Pipeline(stages=[vectorAssembler, decision])"
   ]
  },
  {
   "cell_type": "code",
   "execution_count": null,
   "metadata": {
    "id": "1eL1IqfuSGiV"
   },
   "outputs": [],
   "source": [
    "model = pipeline.fit(train)"
   ]
  },
  {
   "cell_type": "code",
   "execution_count": null,
   "metadata": {
    "id": "YxTSdnLcSJJm"
   },
   "outputs": [],
   "source": [
    "prediction = model.transform(test)\n",
    "predicted = prediction.select(\"prediction\", \"trueLabel\")"
   ]
  },
  {
   "cell_type": "code",
   "execution_count": null,
   "metadata": {
    "colab": {
     "base_uri": "https://localhost:8080/"
    },
    "id": "35mC2-XVSKog",
    "outputId": "9aa6cd49-68dd-4001-ccc6-c04daa08c15b"
   },
   "outputs": [
    {
     "name": "stdout",
     "output_type": "stream",
     "text": [
      "Average Test Accuracy = 0.8502815726789176\n"
     ]
    }
   ],
   "source": [
    "evaluator = BinaryClassificationEvaluator(labelCol=\"trueLabel\", rawPredictionCol=\"prediction\", metricName=\"areaUnderROC\")\n",
    "auc = evaluator.evaluate(prediction)\n",
    "print(\"Average Test Accuracy =\", auc) "
   ]
  },
  {
   "cell_type": "code",
   "execution_count": null,
   "metadata": {
    "colab": {
     "base_uri": "https://localhost:8080/"
    },
    "id": "4ExfYzieSMHv",
    "outputId": "72f8e922-f373-4ea6-a31d-892b38319d22"
   },
   "outputs": [
    {
     "name": "stdout",
     "output_type": "stream",
     "text": [
      "Average Train Accuracy =  0.8504826200291331\n"
     ]
    }
   ],
   "source": [
    "evaluator = BinaryClassificationEvaluator(labelCol=\"label\", rawPredictionCol=\"prediction\", metricName=\"areaUnderROC\")\n",
    "acc_training = evaluator.evaluate(model.transform(train))\n",
    "print(\"Average Train Accuracy = \", acc_training)"
   ]
  },
  {
   "cell_type": "code",
   "execution_count": null,
   "metadata": {
    "colab": {
     "base_uri": "https://localhost:8080/"
    },
    "id": "uDYHMCX8SNkU",
    "outputId": "aaac09b4-4f86-4d23-8ca8-765e0d418a20"
   },
   "outputs": [
    {
     "name": "stdout",
     "output_type": "stream",
     "text": [
      "+---------+------------------+\n",
      "|   metric|             value|\n",
      "+---------+------------------+\n",
      "|Precision|0.9303312116266479|\n",
      "|   Recall|0.8997250998961217|\n",
      "+---------+------------------+\n",
      "\n"
     ]
    }
   ],
   "source": [
    "tp = float(predicted.filter(\"prediction == 1.0 AND truelabel == 1\").count())\n",
    "fp = float(predicted.filter(\"prediction == 1.0 AND truelabel == 0\").count())\n",
    "tn = float(predicted.filter(\"prediction == 0.0 AND truelabel == 0\").count())\n",
    "fn = float(predicted.filter(\"prediction == 0.0 AND truelabel == 1\").count())\n",
    "metrics = spark.createDataFrame([(\"Precision\", tp / (tp + fp)), (\"Recall\", tp / (tp + fn))],[\"metric\", \"value\"])\n",
    "metrics.show()"
   ]
  },
  {
   "cell_type": "markdown",
   "metadata": {
    "id": "Gdi6cG5PSQOk"
   },
   "source": [
    "## **Logistic Regression**"
   ]
  },
  {
   "cell_type": "code",
   "execution_count": null,
   "metadata": {
    "id": "UWmiszpWSO8D"
   },
   "outputs": [],
   "source": [
    "assembler = VectorAssembler(inputCols = [\"agency_code\",\"loan_type\", \"property_type\", \"loan_purpose\", \"owner_occupancy\",\"loan_amount_000s\",\"preapproval\",\"msamd\",\"state_code\",\"county_code\",\"census_tract_number\",\"applicant_ethnicity\",\"co_applicant_ethnicity\",\"applicant_race_1\",\"co_applicant_race_1\",\"applicant_sex\",\"co_applicant_sex\",\"applicant_income_000s\",\"purchaser_type\",\"hoepa_status\",\"lien_status\",\"population\",\"minority_population\",\"hud_median_family_income\",\"tract_to_msamd_income\",\"number_of_owner_occupied_units\",\"number_of_1_to_4_family_units\",\"application_date_indicator\"], outputCol=\"features\")\n",
    "model = LogisticRegression(labelCol=\"label\", featuresCol=\"features\", maxIter=4, regParam=0.01)\n",
    "pipeline = Pipeline(stages=[assembler,model])"
   ]
  },
  {
   "cell_type": "code",
   "execution_count": null,
   "metadata": {
    "id": "2hXq7ASJSWAM"
   },
   "outputs": [],
   "source": [
    "model = pipeline.fit(train)"
   ]
  },
  {
   "cell_type": "code",
   "execution_count": null,
   "metadata": {
    "colab": {
     "base_uri": "https://localhost:8080/"
    },
    "id": "vmOr0CAoSXXM",
    "outputId": "97c087de-6ac9-4f5b-8680-e2daaaa2e8ad"
   },
   "outputs": [
    {
     "name": "stdout",
     "output_type": "stream",
     "text": [
      "+--------------------+----------+--------------------+---------+\n",
      "|            features|prediction|         probability|trueLabel|\n",
      "+--------------------+----------+--------------------+---------+\n",
      "|[1.0,1.0,1.0,1.0,...|       1.0|[0.06697731380445...|      1.0|\n",
      "|[1.0,1.0,1.0,1.0,...|       1.0|[0.07115411321217...|      1.0|\n",
      "|[1.0,1.0,1.0,1.0,...|       1.0|[0.14649890031743...|      1.0|\n",
      "|[1.0,1.0,1.0,1.0,...|       1.0|[0.26729177421420...|      0.0|\n",
      "|[1.0,1.0,1.0,1.0,...|       1.0|[0.02926479991480...|      1.0|\n",
      "|[1.0,1.0,1.0,1.0,...|       1.0|[0.06041516589486...|      1.0|\n",
      "|[1.0,1.0,1.0,1.0,...|       1.0|[0.18189808040045...|      1.0|\n",
      "|[1.0,1.0,1.0,1.0,...|       1.0|[0.37676953917222...|      0.0|\n",
      "|[1.0,1.0,1.0,1.0,...|       1.0|[0.00617175024943...|      1.0|\n",
      "|[1.0,1.0,1.0,1.0,...|       1.0|[0.14716066666565...|      1.0|\n",
      "|[1.0,1.0,1.0,1.0,...|       1.0|[0.43582114007079...|      1.0|\n",
      "|[1.0,1.0,1.0,1.0,...|       1.0|[0.12736012221248...|      1.0|\n",
      "|[1.0,1.0,1.0,1.0,...|       1.0|[0.27136765796228...|      1.0|\n",
      "|[1.0,1.0,1.0,1.0,...|       1.0|[0.21455737842987...|      0.0|\n",
      "|[1.0,1.0,1.0,1.0,...|       1.0|[0.10727823663009...|      1.0|\n",
      "|[1.0,1.0,1.0,1.0,...|       1.0|[0.25532400441689...|      0.0|\n",
      "|[1.0,1.0,1.0,1.0,...|       1.0|[0.25869724711317...|      1.0|\n",
      "|[1.0,1.0,1.0,1.0,...|       1.0|[0.09309199297226...|      1.0|\n",
      "|[1.0,1.0,1.0,1.0,...|       1.0|[0.29796362650516...|      1.0|\n",
      "|[1.0,1.0,1.0,1.0,...|       1.0|[0.15838766442254...|      0.0|\n",
      "+--------------------+----------+--------------------+---------+\n",
      "only showing top 20 rows\n",
      "\n"
     ]
    }
   ],
   "source": [
    "# list prediction\n",
    "prediction = model.transform(test)\n",
    "predicted = prediction.select(\"features\", \"prediction\", \"probability\", \"trueLabel\")\n",
    "predicted.show()"
   ]
  },
  {
   "cell_type": "code",
   "execution_count": null,
   "metadata": {
    "colab": {
     "base_uri": "https://localhost:8080/"
    },
    "id": "I_7jv8MoSZ0j",
    "outputId": "ebab941c-e042-46cc-b672-275d054fb12c"
   },
   "outputs": [
    {
     "name": "stdout",
     "output_type": "stream",
     "text": [
      "AUC Test =  0.6344621062656983\n"
     ]
    }
   ],
   "source": [
    "evaluator = BinaryClassificationEvaluator(labelCol=\"trueLabel\", rawPredictionCol=\"prediction\", metricName=\"areaUnderROC\")\n",
    "auc = evaluator.evaluate(prediction)\n",
    "print(\"AUC Test = \", auc)"
   ]
  },
  {
   "cell_type": "code",
   "execution_count": null,
   "metadata": {
    "colab": {
     "base_uri": "https://localhost:8080/"
    },
    "id": "zESTVrkEScMH",
    "outputId": "5b8d39c8-1191-4691-acd5-af6c27946252"
   },
   "outputs": [
    {
     "name": "stdout",
     "output_type": "stream",
     "text": [
      "Average Train Accuracy =  0.6348270507222835\n"
     ]
    }
   ],
   "source": [
    "evaluator = BinaryClassificationEvaluator(labelCol=\"label\", rawPredictionCol=\"prediction\", metricName=\"areaUnderROC\")\n",
    "acc_training = evaluator.evaluate(model.transform(train))\n",
    "print(\"Average Train Accuracy = \", acc_training)"
   ]
  },
  {
   "cell_type": "markdown",
   "metadata": {
    "id": "ZKZtycx5Se81"
   },
   "source": [
    "## **Naive Bayes**"
   ]
  },
  {
   "cell_type": "code",
   "execution_count": null,
   "metadata": {
    "id": "Ozcp7iYpSdpm"
   },
   "outputs": [],
   "source": [
    "from pyspark.ml.classification import NaiveBayes\n",
    "assembler = VectorAssembler(inputCols = [\"agency_code\",\"loan_type\", \"property_type\", \"loan_purpose\", \"owner_occupancy\",\"loan_amount_000s\",\"preapproval\",\"msamd\",\"state_code\",\"county_code\",\"census_tract_number\",\"applicant_ethnicity\",\"co_applicant_ethnicity\",\"applicant_race_1\",\"co_applicant_race_1\",\"applicant_sex\",\"co_applicant_sex\",\"applicant_income_000s\",\"purchaser_type\",\"hoepa_status\",\"lien_status\",\"population\",\"minority_population\",\"hud_median_family_income\",\"tract_to_msamd_income\",\"number_of_owner_occupied_units\",\"number_of_1_to_4_family_units\",\"application_date_indicator\"], outputCol=\"features\")\n",
    "model = NaiveBayes(smoothing=1.0, modelType=\"multinomial\")\n",
    "pipeline = Pipeline(stages=[assembler,model])"
   ]
  },
  {
   "cell_type": "code",
   "execution_count": null,
   "metadata": {
    "id": "YMYd2dM1Sknr"
   },
   "outputs": [],
   "source": [
    "model = pipeline.fit(train)"
   ]
  },
  {
   "cell_type": "code",
   "execution_count": null,
   "metadata": {
    "colab": {
     "base_uri": "https://localhost:8080/"
    },
    "id": "KVQTL8ctSmFO",
    "outputId": "a6585b58-8040-4b07-e246-d4719c104431"
   },
   "outputs": [
    {
     "name": "stdout",
     "output_type": "stream",
     "text": [
      "+--------------------+----------+--------------------+---------+\n",
      "|            features|prediction|         probability|trueLabel|\n",
      "+--------------------+----------+--------------------+---------+\n",
      "|[1.0,1.0,1.0,1.0,...|       1.0|[6.95912099720099...|      1.0|\n",
      "|[1.0,1.0,1.0,1.0,...|       1.0|[2.68208818303639...|      1.0|\n",
      "|[1.0,1.0,1.0,1.0,...|       0.0|[1.0,2.8026390424...|      1.0|\n",
      "|[1.0,1.0,1.0,1.0,...|       0.0|[1.0,1.3774413790...|      0.0|\n",
      "|[1.0,1.0,1.0,1.0,...|       1.0|[1.07460451844898...|      1.0|\n",
      "+--------------------+----------+--------------------+---------+\n",
      "only showing top 5 rows\n",
      "\n"
     ]
    }
   ],
   "source": [
    "# list prediction\n",
    "prediction = model.transform(test)\n",
    "predicted = prediction.select(\"features\", \"prediction\", \"probability\", \"trueLabel\")\n",
    "predicted.show(5)"
   ]
  },
  {
   "cell_type": "code",
   "execution_count": null,
   "metadata": {
    "colab": {
     "base_uri": "https://localhost:8080/"
    },
    "id": "m84zU7TYSn8K",
    "outputId": "08feed16-c5bd-4326-f59d-6f1e1bae544e"
   },
   "outputs": [
    {
     "name": "stdout",
     "output_type": "stream",
     "text": [
      "AUC Test =  0.5688206243272074\n"
     ]
    }
   ],
   "source": [
    "evaluator = BinaryClassificationEvaluator(labelCol=\"trueLabel\", rawPredictionCol=\"prediction\", metricName=\"areaUnderROC\")\n",
    "auc = evaluator.evaluate(prediction)\n",
    "print(\"AUC Test = \", auc)"
   ]
  },
  {
   "cell_type": "code",
   "execution_count": null,
   "metadata": {
    "colab": {
     "base_uri": "https://localhost:8080/"
    },
    "id": "Qmpo1kK9SqfD",
    "outputId": "243df386-e6c1-412e-9746-6f80d9504e81"
   },
   "outputs": [
    {
     "name": "stdout",
     "output_type": "stream",
     "text": [
      "Average Train Accuracy =  0.5681886426106131\n"
     ]
    }
   ],
   "source": [
    "evaluator = BinaryClassificationEvaluator(labelCol=\"label\", rawPredictionCol=\"prediction\", metricName=\"areaUnderROC\")\n",
    "acc_training = evaluator.evaluate(model.transform(train))\n",
    "print(\"Average Train Accuracy = \", acc_training)"
   ]
  },
  {
   "cell_type": "markdown",
   "metadata": {
    "id": "Gytyr2edXxTS"
   },
   "source": [
    "##**Recommendation**\n",
    "\n"
   ]
  },
  {
   "cell_type": "code",
   "execution_count": null,
   "metadata": {
    "colab": {
     "base_uri": "https://localhost:8080/"
    },
    "id": "-TbX_wQJSsIJ",
    "outputId": "17e40ada-2867-4d39-9832-913d9adbbe6c"
   },
   "outputs": [
    {
     "name": "stdout",
     "output_type": "stream",
     "text": [
      "+---+-------------+--------------------+-----------+-----------+--------------+---------+--------------------+-------------+-----------------+------------+--------------------+---------------+----------------+----------------+-----------+-----------------+------------+----------+-------+----------+----------+----------+-----------+-----------+-------------------+------------------------+-------------------+---------------------------+----------------------+---------------------+----------------+------------------------+-------------------+------------------+-------------+---------------------+----------------+---------------------+--------------------+--------------+-----------------+------------+--------------------+-----------+---------------+----------+-------------------+------------------------+---------------------+------------------------------+-----------------------------+--------------------------+\n",
      "|_c0|respondent_id|         agency_name|agency_abbr|agency_code|loan_type_name|loan_type|  property_type_name|property_type|loan_purpose_name|loan_purpose|owner_occupancy_name|owner_occupancy|loan_amount_000s|preapproval_name|preapproval|action_taken_name|action_taken|msamd_name|  msamd|state_name|state_abbr|state_code|county_name|county_code|census_tract_number|applicant_ethnicity_name|applicant_ethnicity|co_applicant_ethnicity_name|co_applicant_ethnicity|applicant_race_name_1|applicant_race_1|co_applicant_race_name_1|co_applicant_race_1|applicant_sex_name|applicant_sex|co_applicant_sex_name|co_applicant_sex|applicant_income_000s| purchaser_type_name|purchaser_type|hoepa_status_name|hoepa_status|    lien_status_name|lien_status|sequence_number|population|minority_population|hud_median_family_income|tract_to_msamd_income|number_of_owner_occupied_units|number_of_1_to_4_family_units|application_date_indicator|\n",
      "+---+-------------+--------------------+-----------+-----------+--------------+---------+--------------------+-------------+-----------------+------------+--------------------+---------------+----------------+----------------+-----------+-----------------+------------+----------+-------+----------+----------+----------+-----------+-----------+-------------------+------------------------+-------------------+---------------------------+----------------------+---------------------+----------------+------------------------+-------------------+------------------+-------------+---------------------+----------------+---------------------+--------------------+--------------+-----------------+------------+--------------------+-----------+---------------+----------+-------------------+------------------------+---------------------+------------------------------+-----------------------------+--------------------------+\n",
      "|  1|   0000476810|Consumer Financia...|       CFPB|          9|  Conventional|        1|One-to-four famil...|            1|      Refinancing|           3|Owner-occupied as...|              1|              58|  Not applicable|          3|  Loan originated|           1|Macon - GA|31420.0|   Georgia|        GA|      13.0|Bibb County|       21.0|             134.09|    Not Hispanic or L...|                  2|            No co-applicant|                     5|                White|               5|         No co-applicant|                  8|            Female|            2|      No co-applicant|               5|                 15.0|Affiliate institu...|             8| Not a HOEPA loan|           2|Secured by a firs...|          1|          45374|    4143.0|  33.47999954223633|                 49800.0|    148.0500030517578|                        1110.0|                       1352.0|                         0|\n",
      "+---+-------------+--------------------+-----------+-----------+--------------+---------+--------------------+-------------+-----------------+------------+--------------------+---------------+----------------+----------------+-----------+-----------------+------------+----------+-------+----------+----------+----------+-----------+-----------+-------------------+------------------------+-------------------+---------------------------+----------------------+---------------------+----------------+------------------------+-------------------+------------------+-------------+---------------------+----------------+---------------------+--------------------+--------------+-----------------+------------+--------------------+-----------+---------------+----------+-------------------+------------------------+---------------------+------------------------------+-----------------------------+--------------------------+\n",
      "\n"
     ]
    }
   ],
   "source": [
    "#takes random Sample\n",
    "sample = rawData.sample(False, 0.5,seed = 20).limit(1)\n",
    "#sample = rawData.rdd.takeSample(False, 1, seed=0)\n",
    "sample.show()"
   ]
  },
  {
   "cell_type": "code",
   "execution_count": null,
   "metadata": {
    "id": "p_aXK3TJt3xJ"
   },
   "outputs": [],
   "source": [
    "#def getrows(df, rownums=None):\n",
    "    #return df.rdd.zipWithIndex().filter(lambda x: x[1] in rownums).map(lambda x: x[0])\n",
    "#onesample = getrows(sample, rownums=[7]).collect()"
   ]
  },
  {
   "cell_type": "code",
   "execution_count": null,
   "metadata": {
    "colab": {
     "base_uri": "https://localhost:8080/"
    },
    "id": "QjG0E5h0X6Q5",
    "outputId": "0e568489-01a7-4e44-d214-4a1062e56902"
   },
   "outputs": [
    {
     "name": "stdout",
     "output_type": "stream",
     "text": [
      "+-----------+---------+-------------+------------+---------------+----------------+-----------+-------+----------+-----------+-------------------+-------------------+----------------------+----------------+-------------------+-------------+----------------+---------------------+--------------+------------+-----------+----------+-------------------+------------------------+---------------------+------------------------------+-----------------------------+--------------------------+\n",
      "|agency_code|loan_type|property_type|loan_purpose|owner_occupancy|loan_amount_000s|preapproval|  msamd|state_code|county_code|census_tract_number|applicant_ethnicity|co_applicant_ethnicity|applicant_race_1|co_applicant_race_1|applicant_sex|co_applicant_sex|applicant_income_000s|purchaser_type|hoepa_status|lien_status|population|minority_population|hud_median_family_income|tract_to_msamd_income|number_of_owner_occupied_units|number_of_1_to_4_family_units|application_date_indicator|\n",
      "+-----------+---------+-------------+------------+---------------+----------------+-----------+-------+----------+-----------+-------------------+-------------------+----------------------+----------------+-------------------+-------------+----------------+---------------------+--------------+------------+-----------+----------+-------------------+------------------------+---------------------+------------------------------+-----------------------------+--------------------------+\n",
      "|        9.0|      1.0|          1.0|         3.0|            1.0|            58.0|        3.0|31420.0|      13.0|       21.0|             134.09|                2.0|                   5.0|             5.0|                8.0|          2.0|             5.0|                 15.0|           8.0|         2.0|        1.0|    4143.0|              33.48|                 49800.0|               148.05|                        1110.0|                       1352.0|                       0.0|\n",
      "+-----------+---------+-------------+------------+---------------+----------------+-----------+-------+----------+-----------+-------------------+-------------------+----------------------+----------------+-------------------+-------------+----------------+---------------------+--------------+------------+-----------+----------+-------------------+------------------------+---------------------+------------------------------+-----------------------------+--------------------------+\n",
      "\n"
     ]
    }
   ],
   "source": [
    "#resampling to fit model\n",
    "resample = sample.select(col(\"agency_code\").cast(\"float\"),col(\"loan_type\").cast(\"float\"),col(\"property_type\").cast(\"float\"),col(\"loan_purpose\").cast(\"float\"),col(\"owner_occupancy\").cast(\"float\"),col(\"loan_amount_000s\").cast(\"float\"),col(\"preapproval\").cast(\"float\"),col(\"msamd\").cast(\"float\"),col(\"state_code\").cast(\"float\"),col(\"county_code\").cast(\"float\"),col(\"census_tract_number\").cast(\"float\"),col(\"applicant_ethnicity\").cast(\"float\"),col(\"co_applicant_ethnicity\").cast(\"float\"),col(\"applicant_race_1\").cast(\"float\"),col(\"co_applicant_race_1\").cast(\"float\"),col(\"applicant_sex\").cast(\"float\"),col(\"co_applicant_sex\").cast(\"float\"),col(\"applicant_income_000s\").cast(\"float\"),col(\"purchaser_type\").cast(\"float\"),col(\"hoepa_status\").cast(\"float\"),col(\"lien_status\").cast(\"float\"),col(\"population\").cast(\"float\"),col(\"minority_population\").cast(\"float\"),col(\"hud_median_family_income\").cast(\"float\"),col(\"tract_to_msamd_income\").cast(\"float\"),col(\"number_of_owner_occupied_units\").cast(\"float\"),col(\"number_of_1_to_4_family_units\").cast(\"float\"),col(\"application_date_indicator\").cast(\"float\"))\n",
    "resample.show()"
   ]
  },
  {
   "cell_type": "code",
   "execution_count": null,
   "metadata": {
    "id": "xdXFg5lMYorM"
   },
   "outputs": [],
   "source": [
    "avgincome_d = dict(zip(list(df_avg_income.select('msamd').toPandas()['msamd']), list(df_avg_income.select('avg(income)').toPandas()['avg(income)'])))"
   ]
  },
  {
   "cell_type": "code",
   "execution_count": null,
   "metadata": {
    "id": "F15APcItcwtK"
   },
   "outputs": [],
   "source": [
    "avgfamilyincome_d = dict(zip(list(df_avg_family_income.select('msamd').toPandas()['msamd']), list(df_avg_family_income.select('avg(family_income)').toPandas()['avg(family_income)'])))"
   ]
  },
  {
   "cell_type": "code",
   "execution_count": null,
   "metadata": {
    "id": "MACybSMydG9e"
   },
   "outputs": [],
   "source": [
    "avgloan_d = dict(zip(list(df_avg_loan.select('msamd').toPandas()['msamd']), list(df_avg_loan.select('avg(loan_amount)').toPandas()['avg(loan_amount)'])))"
   ]
  },
  {
   "cell_type": "code",
   "execution_count": null,
   "metadata": {
    "colab": {
     "base_uri": "https://localhost:8080/"
    },
    "id": "4oR7ueaOnzLC",
    "outputId": "ddde213d-e1da-47df-e91f-75c41ac2256b"
   },
   "outputs": [
    {
     "data": {
      "text/plain": [
       "1.0"
      ]
     },
     "execution_count": 48,
     "metadata": {
      "tags": []
     },
     "output_type": "execute_result"
    }
   ],
   "source": [
    "model.transform(resample).collect()[0]['prediction']"
   ]
  },
  {
   "cell_type": "code",
   "execution_count": null,
   "metadata": {
    "id": "_8ZlmzGlX86g"
   },
   "outputs": [],
   "source": [
    "#buy in another place pre approval - income and loan\n",
    "def recommend(sample,model):\n",
    "  samplelist = sample.collect()[0]\n",
    "  re_sample = sample.select(col(\"agency_code\").cast(\"float\"),col(\"loan_type\").cast(\"float\"),col(\"property_type\").cast(\"float\"),col(\"loan_purpose\").cast(\"float\"),col(\"owner_occupancy\").cast(\"float\"),col(\"loan_amount_000s\").cast(\"float\"),col(\"preapproval\").cast(\"float\"),col(\"msamd\").cast(\"float\"),col(\"state_code\").cast(\"float\"),col(\"county_code\").cast(\"float\"),col(\"census_tract_number\").cast(\"float\"),col(\"applicant_ethnicity\").cast(\"float\"),col(\"co_applicant_ethnicity\").cast(\"float\"),col(\"applicant_race_1\").cast(\"float\"),col(\"co_applicant_race_1\").cast(\"float\"),col(\"applicant_sex\").cast(\"float\"),col(\"co_applicant_sex\").cast(\"float\"),col(\"applicant_income_000s\").cast(\"float\"),col(\"purchaser_type\").cast(\"float\"),col(\"hoepa_status\").cast(\"float\"),col(\"lien_status\").cast(\"float\"),col(\"population\").cast(\"float\"),col(\"minority_population\").cast(\"float\"),col(\"hud_median_family_income\").cast(\"float\"),col(\"tract_to_msamd_income\").cast(\"float\"),col(\"number_of_owner_occupied_units\").cast(\"float\"),col(\"number_of_1_to_4_family_units\").cast(\"float\"),col(\"application_date_indicator\").cast(\"float\"))\n",
    "  result = model.transform(re_sample).collect()[0]['prediction']\n",
    "\n",
    "  if result == 1:\n",
    "    result = 'Loan accepted !'\n",
    "  else:\n",
    "    result = 'Loan rejected !'\n",
    "  print(result)\n",
    "\n",
    "  if result == 'Loan rejected !':\n",
    "    agency = samplelist['agency_name']\n",
    "    preaprroval = samplelist['preapproval_name']\n",
    "    income = samplelist['applicant_income_000s']\n",
    "    familyincome = samplelist['hud_median_family_income']\n",
    "    loan = samplelist['loan_amount_000s']\n",
    "    msamd = samplelist['msamd']\n",
    "    if agency != 'Department of Housing and Urban Development':\n",
    "      print('you should ask for your loan from Department of Housing and Urban Development !')\n",
    "    if preaprroval != 'Preapproval was not requested':\n",
    "      print(\"you shouldn't apply with preapproval documents !\")\n",
    "    if (float(income) < avgincome_d['msamd'] - 20):\n",
    "      print(\"you should have at least income of {}k !\".format(str(avgincome_d['msamd'] - 20)))\n",
    "    if (float(loan) > avgloan_d['msamd'] + 20):\n",
    "      print(\"you should apply for a loan that not exceed {}k !\".format(str(avgloan_d['msamd'] + 20)))\n",
    "    if (float(income) < avgfamilyincome_d['msamd']/1000):\n",
    "      print(\"your should have at least income of {}k to suit with locals !\".format(str(avgfamilyincome_d['msamd']/1000 - 20)))\n"
   ]
  },
  {
   "cell_type": "code",
   "execution_count": null,
   "metadata": {
    "colab": {
     "base_uri": "https://localhost:8080/"
    },
    "id": "eG7xSlS7kem7",
    "outputId": "2c1de2e6-8b03-44aa-92eb-186820b91549"
   },
   "outputs": [
    {
     "name": "stdout",
     "output_type": "stream",
     "text": [
      "Loan accepted !\n"
     ]
    }
   ],
   "source": [
    "recommend(sample,model)"
   ]
  },
  {
   "cell_type": "code",
   "execution_count": null,
   "metadata": {
    "id": "YXGyPcNtmad1"
   },
   "outputs": [],
   "source": []
  }
 ],
 "metadata": {
  "colab": {
   "collapsed_sections": [
    "y_NlUwowr7rJ",
    "0JiZCkv10I51",
    "4WBLRsyvdSpo",
    "BzNsFgrDdZWw",
    "Npo5dDFmelYV",
    "6txTABzyi7Ry",
    "t1tMEv5geim9",
    "DiY7kge7sSxu",
    "oTxlO5YyE6mf",
    "AK5YRkgxmCSl",
    "Le-GWMM-2BnA",
    "b_WhPFlhRsnD",
    "Gdi6cG5PSQOk",
    "ZKZtycx5Se81"
   ],
   "name": "finalproject.ipynb",
   "provenance": []
  },
  "kernelspec": {
   "display_name": "Python 3",
   "language": "python",
   "name": "python3"
  },
  "language_info": {
   "codemirror_mode": {
    "name": "ipython",
    "version": 3
   },
   "file_extension": ".py",
   "mimetype": "text/x-python",
   "name": "python",
   "nbconvert_exporter": "python",
   "pygments_lexer": "ipython3",
   "version": "3.8.5"
  }
 },
 "nbformat": 4,
 "nbformat_minor": 1
}
